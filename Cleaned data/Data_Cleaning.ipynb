{
  "nbformat": 4,
  "nbformat_minor": 0,
  "metadata": {
    "colab": {
      "name": "Data Cleaning.ipynb",
      "provenance": []
    },
    "kernelspec": {
      "name": "python3",
      "display_name": "Python 3"
    },
    "language_info": {
      "name": "python"
    },
    "accelerator": "TPU"
  },
  "cells": [
    {
      "cell_type": "code",
      "metadata": {
        "id": "wczyRBjtEiN1"
      },
      "source": [
        "import pandas as pd\n",
        "import seaborn as sns\n",
        "import matplotlib.pyplot as plt\n",
        "import missingno\n",
        "import numpy as np"
      ],
      "execution_count": 95,
      "outputs": []
    },
    {
      "cell_type": "code",
      "metadata": {
        "colab": {
          "base_uri": "https://localhost:8080/",
          "height": 402
        },
        "id": "DLOk1nqPFr88",
        "outputId": "d2c524e9-9bd3-47d2-900e-c85a6384b051"
      },
      "source": [
        "df = pd.read_csv(\"directory.csv\")\n",
        "df.head()"
      ],
      "execution_count": 2,
      "outputs": [
        {
          "output_type": "execute_result",
          "data": {
            "text/html": [
              "<div>\n",
              "<style scoped>\n",
              "    .dataframe tbody tr th:only-of-type {\n",
              "        vertical-align: middle;\n",
              "    }\n",
              "\n",
              "    .dataframe tbody tr th {\n",
              "        vertical-align: top;\n",
              "    }\n",
              "\n",
              "    .dataframe thead th {\n",
              "        text-align: right;\n",
              "    }\n",
              "</style>\n",
              "<table border=\"1\" class=\"dataframe\">\n",
              "  <thead>\n",
              "    <tr style=\"text-align: right;\">\n",
              "      <th></th>\n",
              "      <th>Brand</th>\n",
              "      <th>Store Number</th>\n",
              "      <th>Store Name</th>\n",
              "      <th>Ownership Type</th>\n",
              "      <th>Street Address</th>\n",
              "      <th>City</th>\n",
              "      <th>State/Province</th>\n",
              "      <th>Country</th>\n",
              "      <th>Postcode</th>\n",
              "      <th>Phone Number</th>\n",
              "      <th>Timezone</th>\n",
              "      <th>Longitude</th>\n",
              "      <th>Latitude</th>\n",
              "    </tr>\n",
              "  </thead>\n",
              "  <tbody>\n",
              "    <tr>\n",
              "      <th>0</th>\n",
              "      <td>Starbucks</td>\n",
              "      <td>47370-257954</td>\n",
              "      <td>Meritxell, 96</td>\n",
              "      <td>Licensed</td>\n",
              "      <td>Av. Meritxell, 96</td>\n",
              "      <td>Andorra la Vella</td>\n",
              "      <td>7</td>\n",
              "      <td>AD</td>\n",
              "      <td>AD500</td>\n",
              "      <td>376818720</td>\n",
              "      <td>GMT+1:00 Europe/Andorra</td>\n",
              "      <td>1.53</td>\n",
              "      <td>42.51</td>\n",
              "    </tr>\n",
              "    <tr>\n",
              "      <th>1</th>\n",
              "      <td>Starbucks</td>\n",
              "      <td>22331-212325</td>\n",
              "      <td>Ajman Drive Thru</td>\n",
              "      <td>Licensed</td>\n",
              "      <td>1 Street 69, Al Jarf</td>\n",
              "      <td>Ajman</td>\n",
              "      <td>AJ</td>\n",
              "      <td>AE</td>\n",
              "      <td>NaN</td>\n",
              "      <td>NaN</td>\n",
              "      <td>GMT+04:00 Asia/Dubai</td>\n",
              "      <td>55.47</td>\n",
              "      <td>25.42</td>\n",
              "    </tr>\n",
              "    <tr>\n",
              "      <th>2</th>\n",
              "      <td>Starbucks</td>\n",
              "      <td>47089-256771</td>\n",
              "      <td>Dana Mall</td>\n",
              "      <td>Licensed</td>\n",
              "      <td>Sheikh Khalifa Bin Zayed St.</td>\n",
              "      <td>Ajman</td>\n",
              "      <td>AJ</td>\n",
              "      <td>AE</td>\n",
              "      <td>NaN</td>\n",
              "      <td>NaN</td>\n",
              "      <td>GMT+04:00 Asia/Dubai</td>\n",
              "      <td>55.47</td>\n",
              "      <td>25.39</td>\n",
              "    </tr>\n",
              "    <tr>\n",
              "      <th>3</th>\n",
              "      <td>Starbucks</td>\n",
              "      <td>22126-218024</td>\n",
              "      <td>Twofour 54</td>\n",
              "      <td>Licensed</td>\n",
              "      <td>Al Salam Street</td>\n",
              "      <td>Abu Dhabi</td>\n",
              "      <td>AZ</td>\n",
              "      <td>AE</td>\n",
              "      <td>NaN</td>\n",
              "      <td>NaN</td>\n",
              "      <td>GMT+04:00 Asia/Dubai</td>\n",
              "      <td>54.38</td>\n",
              "      <td>24.48</td>\n",
              "    </tr>\n",
              "    <tr>\n",
              "      <th>4</th>\n",
              "      <td>Starbucks</td>\n",
              "      <td>17127-178586</td>\n",
              "      <td>Al Ain Tower</td>\n",
              "      <td>Licensed</td>\n",
              "      <td>Khaldiya Area, Abu Dhabi Island</td>\n",
              "      <td>Abu Dhabi</td>\n",
              "      <td>AZ</td>\n",
              "      <td>AE</td>\n",
              "      <td>NaN</td>\n",
              "      <td>NaN</td>\n",
              "      <td>GMT+04:00 Asia/Dubai</td>\n",
              "      <td>54.54</td>\n",
              "      <td>24.51</td>\n",
              "    </tr>\n",
              "  </tbody>\n",
              "</table>\n",
              "</div>"
            ],
            "text/plain": [
              "       Brand  Store Number  ... Longitude Latitude\n",
              "0  Starbucks  47370-257954  ...      1.53    42.51\n",
              "1  Starbucks  22331-212325  ...     55.47    25.42\n",
              "2  Starbucks  47089-256771  ...     55.47    25.39\n",
              "3  Starbucks  22126-218024  ...     54.38    24.48\n",
              "4  Starbucks  17127-178586  ...     54.54    24.51\n",
              "\n",
              "[5 rows x 13 columns]"
            ]
          },
          "metadata": {
            "tags": []
          },
          "execution_count": 2
        }
      ]
    },
    {
      "cell_type": "code",
      "metadata": {
        "colab": {
          "base_uri": "https://localhost:8080/"
        },
        "id": "NjY2FPLMGZdo",
        "outputId": "4a33f719-38e5-496f-e200-45eb3682c71c"
      },
      "source": [
        "df.columns"
      ],
      "execution_count": 3,
      "outputs": [
        {
          "output_type": "execute_result",
          "data": {
            "text/plain": [
              "Index(['Brand', 'Store Number', 'Store Name', 'Ownership Type',\n",
              "       'Street Address', 'City', 'State/Province', 'Country', 'Postcode',\n",
              "       'Phone Number', 'Timezone', 'Longitude', 'Latitude'],\n",
              "      dtype='object')"
            ]
          },
          "metadata": {
            "tags": []
          },
          "execution_count": 3
        }
      ]
    },
    {
      "cell_type": "code",
      "metadata": {
        "colab": {
          "base_uri": "https://localhost:8080/",
          "height": 294
        },
        "id": "i55GKCYjGimB",
        "outputId": "6d0fb6d7-a5c8-4b93-ae70-6530c7887443"
      },
      "source": [
        "df.describe()"
      ],
      "execution_count": 41,
      "outputs": [
        {
          "output_type": "execute_result",
          "data": {
            "text/html": [
              "<div>\n",
              "<style scoped>\n",
              "    .dataframe tbody tr th:only-of-type {\n",
              "        vertical-align: middle;\n",
              "    }\n",
              "\n",
              "    .dataframe tbody tr th {\n",
              "        vertical-align: top;\n",
              "    }\n",
              "\n",
              "    .dataframe thead th {\n",
              "        text-align: right;\n",
              "    }\n",
              "</style>\n",
              "<table border=\"1\" class=\"dataframe\">\n",
              "  <thead>\n",
              "    <tr style=\"text-align: right;\">\n",
              "      <th></th>\n",
              "      <th>Longitude</th>\n",
              "      <th>Latitude</th>\n",
              "    </tr>\n",
              "  </thead>\n",
              "  <tbody>\n",
              "    <tr>\n",
              "      <th>count</th>\n",
              "      <td>25599.000000</td>\n",
              "      <td>25599.000000</td>\n",
              "    </tr>\n",
              "    <tr>\n",
              "      <th>mean</th>\n",
              "      <td>-27.872234</td>\n",
              "      <td>34.793016</td>\n",
              "    </tr>\n",
              "    <tr>\n",
              "      <th>std</th>\n",
              "      <td>96.844046</td>\n",
              "      <td>13.342332</td>\n",
              "    </tr>\n",
              "    <tr>\n",
              "      <th>min</th>\n",
              "      <td>-159.460000</td>\n",
              "      <td>-46.410000</td>\n",
              "    </tr>\n",
              "    <tr>\n",
              "      <th>25%</th>\n",
              "      <td>-104.665000</td>\n",
              "      <td>31.240000</td>\n",
              "    </tr>\n",
              "    <tr>\n",
              "      <th>50%</th>\n",
              "      <td>-79.350000</td>\n",
              "      <td>36.750000</td>\n",
              "    </tr>\n",
              "    <tr>\n",
              "      <th>75%</th>\n",
              "      <td>100.630000</td>\n",
              "      <td>41.570000</td>\n",
              "    </tr>\n",
              "    <tr>\n",
              "      <th>max</th>\n",
              "      <td>176.920000</td>\n",
              "      <td>64.850000</td>\n",
              "    </tr>\n",
              "  </tbody>\n",
              "</table>\n",
              "</div>"
            ],
            "text/plain": [
              "          Longitude      Latitude\n",
              "count  25599.000000  25599.000000\n",
              "mean     -27.872234     34.793016\n",
              "std       96.844046     13.342332\n",
              "min     -159.460000    -46.410000\n",
              "25%     -104.665000     31.240000\n",
              "50%      -79.350000     36.750000\n",
              "75%      100.630000     41.570000\n",
              "max      176.920000     64.850000"
            ]
          },
          "metadata": {
            "tags": []
          },
          "execution_count": 41
        }
      ]
    },
    {
      "cell_type": "code",
      "metadata": {
        "colab": {
          "base_uri": "https://localhost:8080/"
        },
        "id": "UKEBlxZMGqjx",
        "outputId": "91165395-4c9e-4eda-b613-c6b236f5c4b4"
      },
      "source": [
        "df.isnull().sum()/len(df)"
      ],
      "execution_count": 6,
      "outputs": [
        {
          "output_type": "execute_result",
          "data": {
            "text/plain": [
              "Brand             0.000000\n",
              "Store Number      0.000000\n",
              "Store Name        0.000000\n",
              "Ownership Type    0.000000\n",
              "Street Address    0.000078\n",
              "City              0.000586\n",
              "State/Province    0.000000\n",
              "Country           0.000000\n",
              "Postcode          0.059453\n",
              "Phone Number      0.268008\n",
              "Timezone          0.000000\n",
              "Longitude         0.000039\n",
              "Latitude          0.000039\n",
              "dtype: float64"
            ]
          },
          "metadata": {
            "tags": []
          },
          "execution_count": 6
        }
      ]
    },
    {
      "cell_type": "code",
      "metadata": {
        "colab": {
          "base_uri": "https://localhost:8080/",
          "height": 494
        },
        "id": "gw3_bES0ZVgw",
        "outputId": "a1ed55e0-9759-4525-8c5b-661f0a4aa02c"
      },
      "source": [
        "missingno.matrix(df,figsize=(10,6))"
      ],
      "execution_count": 74,
      "outputs": [
        {
          "output_type": "execute_result",
          "data": {
            "text/plain": [
              "<matplotlib.axes._subplots.AxesSubplot at 0x7fa98aec4090>"
            ]
          },
          "metadata": {
            "tags": []
          },
          "execution_count": 74
        },
        {
          "output_type": "display_data",
          "data": {
            "image/png": "[encoded data removed]",
            "text/plain": [
              "<Figure size 720x432 with 2 Axes>"
            ]
          },
          "metadata": {
            "tags": [],
            "needs_background": "light"
          }
        }
      ]
    },
    {
      "cell_type": "code",
      "metadata": {
        "id": "56danEmBG3tw"
      },
      "source": [
        "def value_counts(data, column=None,criteria = None):\n",
        "  if criteria == \"all columns\":\n",
        "    for col in data.columns:\n",
        "      print(col,'\\n',data[col].value_counts(),'\\n\\n')\n",
        "  else:\n",
        "    print(data[column].value_counts())"
      ],
      "execution_count": 70,
      "outputs": []
    },
    {
      "cell_type": "markdown",
      "metadata": {
        "id": "bZaVy-9AZoyL"
      },
      "source": [
        "## Data Cleaning"
      ]
    },
    {
      "cell_type": "code",
      "metadata": {
        "colab": {
          "base_uri": "https://localhost:8080/"
        },
        "id": "TrIbKnKvZHB7",
        "outputId": "3c1f370f-4e5e-4cf4-e431-befd0cdcbff8"
      },
      "source": [
        "df.isnull().sum()/len(df)"
      ],
      "execution_count": 75,
      "outputs": [
        {
          "output_type": "execute_result",
          "data": {
            "text/plain": [
              "Brand             0.000000\n",
              "Store Number      0.000000\n",
              "Store Name        0.000000\n",
              "Ownership Type    0.000000\n",
              "Street Address    0.000078\n",
              "City              0.000586\n",
              "State/Province    0.000000\n",
              "Country           0.000000\n",
              "Postcode          0.059453\n",
              "Phone Number      0.268008\n",
              "Timezone          0.000000\n",
              "Longitude         0.000039\n",
              "Latitude          0.000039\n",
              "dtype: float64"
            ]
          },
          "metadata": {
            "tags": []
          },
          "execution_count": 75
        }
      ]
    },
    {
      "cell_type": "markdown",
      "metadata": {
        "id": "c0Z9EkNfa5YC"
      },
      "source": [
        "So we see from above that a small percentage of data having missing values. Is it so, lets investigate"
      ]
    },
    {
      "cell_type": "code",
      "metadata": {
        "colab": {
          "base_uri": "https://localhost:8080/"
        },
        "id": "8d-foKPSZxKE",
        "outputId": "43298074-daef-4ada-b91a-b0d89fdc9a88"
      },
      "source": [
        "value_counts(data = df,criteria=\"all columns\")"
      ],
      "execution_count": 76,
      "outputs": [
        {
          "output_type": "stream",
          "text": [
            "Brand \n",
            " Starbucks                25249\n",
            "Teavana                    348\n",
            "Evolution Fresh              2\n",
            "Coffee House Holdings        1\n",
            "Name: Brand, dtype: int64 \n",
            "\n",
            "\n",
            "Store Number \n",
            " 19773-160973    2\n",
            "23189-225004    1\n",
            "7760-50439      1\n",
            "17033-178906    1\n",
            "49034-262444    1\n",
            "               ..\n",
            "48408-260731    1\n",
            "75225-79983     1\n",
            "34214-27367     1\n",
            "7856-70820      1\n",
            "23693-227588    1\n",
            "Name: Store Number, Length: 25599, dtype: int64 \n",
            "\n",
            "\n",
            "Store Name \n",
            " Starbucks                         224\n",
            "SPA                                 6\n",
            "Mabohai Shopping Mall               2\n",
            "Magnolia                            2\n",
            "Division del Norte                  2\n",
            "                                 ... \n",
            "Chevron USA Headquarters Lobby      1\n",
            "Soonchunhyang Gate                  1\n",
            "Renai Yanji                         1\n",
            "Randol Mill & Fielder               1\n",
            "成都万象城店                              1\n",
            "Name: Store Name, Length: 25364, dtype: int64 \n",
            "\n",
            "\n",
            "Ownership Type \n",
            " Company Owned    11932\n",
            "Licensed          9375\n",
            "Joint Venture     3976\n",
            "Franchise          317\n",
            "Name: Ownership Type, dtype: int64 \n",
            "\n",
            "\n",
            "Street Address \n",
            " Circular Building #6, Guard Post 8    11\n",
            "2580 S 156th St                        7\n",
            "5757 Wayne Newton Blvd                 5\n",
            "5757 Paradise Rd.                      5\n",
            "3301 S 22nd Ave                        5\n",
            "                                      ..\n",
            "3198 Willow Creek Rd                   1\n",
            "78385 Varner Road                      1\n",
            "13 Church Street                       1\n",
            "1-1-1 Fukashi                          1\n",
            "2856 Ygnacio Valley Road               1\n",
            "Name: Street Address, Length: 25353, dtype: int64 \n",
            "\n",
            "\n",
            "City \n",
            " 上海市                      542\n",
            "Seoul                    243\n",
            "北京市                      234\n",
            "New York                 232\n",
            "London                   216\n",
            "                        ... \n",
            "WAVERLY                    1\n",
            "Taipei                     1\n",
            "Waltham Cross              1\n",
            "Harwood Heights            1\n",
            "Saint Germain en Laye      1\n",
            "Name: City, Length: 5469, dtype: int64 \n",
            "\n",
            "\n",
            "State/Province \n",
            " CA     2821\n",
            "TX     1042\n",
            "ENG     787\n",
            "WA      757\n",
            "11      706\n",
            "       ... \n",
            "60        1\n",
            "ALX       1\n",
            "74        1\n",
            "POS       1\n",
            "K         1\n",
            "Name: State/Province, Length: 338, dtype: int64 \n",
            "\n",
            "\n",
            "Country \n",
            " US    13608\n",
            "CN     2734\n",
            "CA     1468\n",
            "JP     1237\n",
            "KR      993\n",
            "      ...  \n",
            "SK        3\n",
            "ZA        3\n",
            "MC        2\n",
            "LU        2\n",
            "AD        1\n",
            "Name: Country, Length: 73, dtype: int64 \n",
            "\n",
            "\n",
            "Postcode \n",
            " 0            101\n",
            "310000        88\n",
            "518000        70\n",
            "215000        64\n",
            "610000        64\n",
            "            ... \n",
            "902802808      1\n",
            "940702417      1\n",
            "70809          1\n",
            "937263736      1\n",
            "800174150      1\n",
            "Name: Postcode, Length: 18887, dtype: int64 \n",
            "\n",
            "\n",
            "Phone Number \n",
            " 773-686-6180    17\n",
            "0                7\n",
            "4167763100       7\n",
            "704-359-4512     6\n",
            "6023155972       4\n",
            "                ..\n",
            "304-547-2980     1\n",
            "907-331-1700     1\n",
            "7347353835       1\n",
            "96612754367      1\n",
            "720-488-3401     1\n",
            "Name: Phone Number, Length: 18559, dtype: int64 \n",
            "\n",
            "\n",
            "Timezone \n",
            " GMT-05:00 America/New_York       4889\n",
            "GMT-08:00 America/Los_Angeles    4194\n",
            "GMT-06:00 America/Chicago        2901\n",
            "GMT+08:00 Asia/Beijing           2731\n",
            "GMT+09:00 Asia/Tokyo             1237\n",
            "                                 ... \n",
            "GMT+1:00 Europe/Luxembourg          2\n",
            "GMT+0:00 Atlantic/Canary            1\n",
            "GMT+4:00 Europe/Samara              1\n",
            "GMT+2:00 Asia/Jerusalem             1\n",
            "GMT+1:00 Europe/Andorra             1\n",
            "Name: Timezone, Length: 101, dtype: int64 \n",
            "\n",
            "\n",
            "Longitude \n",
            " -73.98     76\n",
            "-73.99     65\n",
            "-77.03     53\n",
            "-122.34    52\n",
            " 121.48    47\n",
            "           ..\n",
            " 29.30      1\n",
            " 33.37      1\n",
            "-116.57     1\n",
            "-74.65      1\n",
            " 7.25       1\n",
            "Name: Longitude, Length: 6834, dtype: int64 \n",
            "\n",
            "\n",
            "Latitude \n",
            " 40.76    81\n",
            "39.91    71\n",
            "31.23    67\n",
            "51.51    62\n",
            "37.56    61\n",
            "         ..\n",
            "4.22      1\n",
            "21.67     1\n",
            "57.81     1\n",
            "56.40     1\n",
            "5.00      1\n",
            "Name: Latitude, Length: 3770, dtype: int64 \n",
            "\n",
            "\n"
          ],
          "name": "stdout"
        }
      ]
    },
    {
      "cell_type": "code",
      "metadata": {
        "colab": {
          "base_uri": "https://localhost:8080/",
          "height": 407
        },
        "id": "iZNyWKcSbtzb",
        "outputId": "f299f796-5482-46cb-9c9b-9930dbd175bf"
      },
      "source": [
        "#Postcode\n",
        "df[df['Postcode']== '0'][\"State/Province\"].value_counts().plot.bar(figsize = (15,6))"
      ],
      "execution_count": 94,
      "outputs": [
        {
          "output_type": "execute_result",
          "data": {
            "text/plain": [
              "<matplotlib.axes._subplots.AxesSubplot at 0x7fa98a7ea990>"
            ]
          },
          "metadata": {
            "tags": []
          },
          "execution_count": 94
        },
        {
          "output_type": "display_data",
          "data": {
            "image/png": "[encoded data removed]",
            "text/plain": [
              "<Figure size 1080x432 with 1 Axes>"
            ]
          },
          "metadata": {
            "tags": [],
            "needs_background": "light"
          }
        }
      ]
    },
    {
      "cell_type": "markdown",
      "metadata": {
        "id": "KEdZcVTqjuii"
      },
      "source": [
        "From the above plot we see many of the State/Provinces has got zip code as 0 whereas the the minimum length of zipcode is 5. In this case I'll try to filter those zip codes which doesn't fall in range 5-10 character length"
      ]
    },
    {
      "cell_type": "code",
      "metadata": {
        "id": "KVgyoMg_dD4Q"
      },
      "source": [
        "df['Postcode'] = df['Postcode'].fillna('0')\n",
        "df['Filtered_Postcode'] = df['Postcode'].apply(lambda x: x if len(x) >= 5 and len(x) <= 10 else '0')"
      ],
      "execution_count": 110,
      "outputs": []
    },
    {
      "cell_type": "code",
      "metadata": {
        "colab": {
          "base_uri": "https://localhost:8080/"
        },
        "id": "k1y3THx3oPYE",
        "outputId": "fa442014-8f5b-47dd-b484-a0493fefe2c0"
      },
      "source": [
        "df['Filtered_Postcode'].value_counts()/df.shape[0]"
      ],
      "execution_count": 111,
      "outputs": [
        {
          "output_type": "execute_result",
          "data": {
            "text/plain": [
              "0            0.116328\n",
              "310000       0.003438\n",
              "518000       0.002734\n",
              "610000       0.002500\n",
              "215000       0.002500\n",
              "               ...   \n",
              "342434151    0.000039\n",
              "802023229    0.000039\n",
              "331263105    0.000039\n",
              "774298323    0.000039\n",
              "90069        0.000039\n",
              "Name: Filtered_Postcode, Length: 18211, dtype: float64"
            ]
          },
          "metadata": {
            "tags": []
          },
          "execution_count": 111
        }
      ]
    },
    {
      "cell_type": "markdown",
      "metadata": {
        "id": "Fa-WcrvErjUV"
      },
      "source": [
        "We see from above that almost 0.12 % of the zip codes are either invalid or cotains missing values. Since, the percentage of these errored zip code is very less so I'll remove these zip codes from the data"
      ]
    },
    {
      "cell_type": "code",
      "metadata": {
        "colab": {
          "base_uri": "https://localhost:8080/",
          "height": 530
        },
        "id": "NxBy7ScuoTBk",
        "outputId": "de55d5a0-ca51-4048-fde9-78d7258deb50"
      },
      "source": [
        "df_new = df[df['Filtered_Postcode'] != '0'].drop('Filtered_Postcode', axis =1)\n",
        "missingno.matrix(df_new)"
      ],
      "execution_count": 202,
      "outputs": [
        {
          "output_type": "execute_result",
          "data": {
            "text/plain": [
              "<matplotlib.axes._subplots.AxesSubplot at 0x7fa9896e2a10>"
            ]
          },
          "metadata": {
            "tags": []
          },
          "execution_count": 202
        },
        {
          "output_type": "display_data",
          "data": {
            "image/png": "[encoded data removed]",
            "text/plain": [
              "<Figure size 1800x720 with 2 Axes>"
            ]
          },
          "metadata": {
            "tags": [],
            "needs_background": "light"
          }
        }
      ]
    },
    {
      "cell_type": "code",
      "metadata": {
        "colab": {
          "base_uri": "https://localhost:8080/"
        },
        "id": "QbyRxC6GtBUo",
        "outputId": "79039383-aecd-4349-d31a-1e49c1bf6051"
      },
      "source": [
        "df_new.reset_index(inplace = True)\n",
        "df_new.info()"
      ],
      "execution_count": 203,
      "outputs": [
        {
          "output_type": "stream",
          "text": [
            "<class 'pandas.core.frame.DataFrame'>\n",
            "RangeIndex: 22622 entries, 0 to 22621\n",
            "Data columns (total 14 columns):\n",
            " #   Column          Non-Null Count  Dtype  \n",
            "---  ------          --------------  -----  \n",
            " 0   index           22622 non-null  int64  \n",
            " 1   Brand           22622 non-null  object \n",
            " 2   Store Number    22622 non-null  object \n",
            " 3   Store Name      22622 non-null  object \n",
            " 4   Ownership Type  22622 non-null  object \n",
            " 5   Street Address  22620 non-null  object \n",
            " 6   City            22622 non-null  object \n",
            " 7   State/Province  22622 non-null  object \n",
            " 8   Country         22622 non-null  object \n",
            " 9   Postcode        22622 non-null  object \n",
            " 10  Phone Number    17312 non-null  object \n",
            " 11  Timezone        22622 non-null  object \n",
            " 12  Longitude       22621 non-null  float64\n",
            " 13  Latitude        22621 non-null  float64\n",
            "dtypes: float64(2), int64(1), object(11)\n",
            "memory usage: 2.4+ MB\n"
          ],
          "name": "stdout"
        }
      ]
    },
    {
      "cell_type": "markdown",
      "metadata": {
        "id": "3ziJdbE2vT4L"
      },
      "source": [
        "The data looks better now. We still see that one latitude and logitude is still missing"
      ]
    },
    {
      "cell_type": "code",
      "metadata": {
        "colab": {
          "base_uri": "https://localhost:8080/"
        },
        "id": "ndC6pBiyu0Lx",
        "outputId": "3e7308e4-abde-40ff-f235-b6e9684942b1"
      },
      "source": [
        "df_new.fillna(np.nan, inplace= True)\n",
        "print(df_new.loc[df_new.notna().any(axis =1)].shape[0])\n",
        "print(df_new.loc[df_new.notnull().any(axis =1)].shape[0])"
      ],
      "execution_count": 204,
      "outputs": [
        {
          "output_type": "stream",
          "text": [
            "22622\n",
            "22622\n"
          ],
          "name": "stdout"
        }
      ]
    },
    {
      "cell_type": "code",
      "metadata": {
        "colab": {
          "base_uri": "https://localhost:8080/"
        },
        "id": "3ziFrFKu2v6S",
        "outputId": "9698f81a-2100-475d-8bdb-0bff96bf3edc"
      },
      "source": [
        "df_new.Latitude.shape"
      ],
      "execution_count": 205,
      "outputs": [
        {
          "output_type": "execute_result",
          "data": {
            "text/plain": [
              "(22622,)"
            ]
          },
          "metadata": {
            "tags": []
          },
          "execution_count": 205
        }
      ]
    },
    {
      "cell_type": "markdown",
      "metadata": {
        "id": "riLGMdOXLge5"
      },
      "source": [
        "For the missing values on the 'Phone Number' column,we'll just replace the NaN values with 'Not avaiable'"
      ]
    },
    {
      "cell_type": "code",
      "metadata": {
        "id": "P2xK_wa7K8Vf"
      },
      "source": [
        "df_new['Phone Number'].fillna('Not avaiable', inplace = True)"
      ],
      "execution_count": 206,
      "outputs": []
    },
    {
      "cell_type": "code",
      "metadata": {
        "id": "h9dkrjR5N5PM"
      },
      "source": [
        "df_new.drop('index',axis = 1,inplace=True)"
      ],
      "execution_count": 210,
      "outputs": []
    },
    {
      "cell_type": "code",
      "metadata": {
        "colab": {
          "base_uri": "https://localhost:8080/",
          "height": 452
        },
        "id": "AN1X6WtXMHf8",
        "outputId": "2f36af73-a567-4dfd-8ea7-a9a0184b52ba"
      },
      "source": [
        "df_new.head()"
      ],
      "execution_count": 211,
      "outputs": [
        {
          "output_type": "execute_result",
          "data": {
            "text/html": [
              "<div>\n",
              "<style scoped>\n",
              "    .dataframe tbody tr th:only-of-type {\n",
              "        vertical-align: middle;\n",
              "    }\n",
              "\n",
              "    .dataframe tbody tr th {\n",
              "        vertical-align: top;\n",
              "    }\n",
              "\n",
              "    .dataframe thead th {\n",
              "        text-align: right;\n",
              "    }\n",
              "</style>\n",
              "<table border=\"1\" class=\"dataframe\">\n",
              "  <thead>\n",
              "    <tr style=\"text-align: right;\">\n",
              "      <th></th>\n",
              "      <th>Brand</th>\n",
              "      <th>Store Number</th>\n",
              "      <th>Store Name</th>\n",
              "      <th>Ownership Type</th>\n",
              "      <th>Street Address</th>\n",
              "      <th>City</th>\n",
              "      <th>State/Province</th>\n",
              "      <th>Country</th>\n",
              "      <th>Postcode</th>\n",
              "      <th>Phone Number</th>\n",
              "      <th>Timezone</th>\n",
              "      <th>Longitude</th>\n",
              "      <th>Latitude</th>\n",
              "    </tr>\n",
              "  </thead>\n",
              "  <tbody>\n",
              "    <tr>\n",
              "      <th>0</th>\n",
              "      <td>Starbucks</td>\n",
              "      <td>47370-257954</td>\n",
              "      <td>Meritxell, 96</td>\n",
              "      <td>Licensed</td>\n",
              "      <td>Av. Meritxell, 96</td>\n",
              "      <td>Andorra la Vella</td>\n",
              "      <td>7</td>\n",
              "      <td>AD</td>\n",
              "      <td>AD500</td>\n",
              "      <td>376818720</td>\n",
              "      <td>GMT+1:00 Europe/Andorra</td>\n",
              "      <td>1.53</td>\n",
              "      <td>42.51</td>\n",
              "    </tr>\n",
              "    <tr>\n",
              "      <th>1</th>\n",
              "      <td>Starbucks</td>\n",
              "      <td>24932-239347</td>\n",
              "      <td>Al Mamoura</td>\n",
              "      <td>Licensed</td>\n",
              "      <td>Al Mamoura, Al Muroor District</td>\n",
              "      <td>Abu Dhabi</td>\n",
              "      <td>AZ</td>\n",
              "      <td>AE</td>\n",
              "      <td>51133</td>\n",
              "      <td>Not avaiable</td>\n",
              "      <td>GMT+04:00 Asia/Dubai</td>\n",
              "      <td>54.39</td>\n",
              "      <td>24.46</td>\n",
              "    </tr>\n",
              "    <tr>\n",
              "      <th>2</th>\n",
              "      <td>Starbucks</td>\n",
              "      <td>24931-239348</td>\n",
              "      <td>Raha Garden</td>\n",
              "      <td>Licensed</td>\n",
              "      <td>Raha Gardens Plaza</td>\n",
              "      <td>Abu Dhabi</td>\n",
              "      <td>AZ</td>\n",
              "      <td>AE</td>\n",
              "      <td>51133</td>\n",
              "      <td>Not avaiable</td>\n",
              "      <td>GMT+04:00 Asia/Dubai</td>\n",
              "      <td>54.37</td>\n",
              "      <td>24.47</td>\n",
              "    </tr>\n",
              "    <tr>\n",
              "      <th>3</th>\n",
              "      <td>Starbucks</td>\n",
              "      <td>27072-246650</td>\n",
              "      <td>Reel Cinema</td>\n",
              "      <td>Licensed</td>\n",
              "      <td>Reel Cinema, Dubai Mall, Second Floor</td>\n",
              "      <td>Dubai</td>\n",
              "      <td>DU</td>\n",
              "      <td>AE</td>\n",
              "      <td>113444</td>\n",
              "      <td>Not avaiable</td>\n",
              "      <td>GMT+04:00 Asia/Muscat</td>\n",
              "      <td>55.60</td>\n",
              "      <td>24.78</td>\n",
              "    </tr>\n",
              "    <tr>\n",
              "      <th>4</th>\n",
              "      <td>Starbucks</td>\n",
              "      <td>25406-240945</td>\n",
              "      <td>Bin Sougat</td>\n",
              "      <td>Licensed</td>\n",
              "      <td>Al Khawaneej Road, Al Rashidiya</td>\n",
              "      <td>Dubai</td>\n",
              "      <td>DU</td>\n",
              "      <td>AE</td>\n",
              "      <td>10170</td>\n",
              "      <td>Not avaiable</td>\n",
              "      <td>GMT+04:00 Asia/Dubai</td>\n",
              "      <td>55.40</td>\n",
              "      <td>25.23</td>\n",
              "    </tr>\n",
              "  </tbody>\n",
              "</table>\n",
              "</div>"
            ],
            "text/plain": [
              "       Brand  Store Number  ... Longitude Latitude\n",
              "0  Starbucks  47370-257954  ...      1.53    42.51\n",
              "1  Starbucks  24932-239347  ...     54.39    24.46\n",
              "2  Starbucks  24931-239348  ...     54.37    24.47\n",
              "3  Starbucks  27072-246650  ...     55.60    24.78\n",
              "4  Starbucks  25406-240945  ...     55.40    25.23\n",
              "\n",
              "[5 rows x 13 columns]"
            ]
          },
          "metadata": {
            "tags": []
          },
          "execution_count": 211
        }
      ]
    },
    {
      "cell_type": "code",
      "metadata": {
        "id": "Q8mfvBCS6Z4E"
      },
      "source": [
        "df.to_csv('cleaned data.csv', index= False)"
      ],
      "execution_count": 212,
      "outputs": []
    }
  ]
}