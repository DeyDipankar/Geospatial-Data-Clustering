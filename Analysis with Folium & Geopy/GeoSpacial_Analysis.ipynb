{
  "nbformat": 4,
  "nbformat_minor": 0,
  "metadata": {
    "colab": {
      "name": "GeoSpacial Analysis.ipynb",
      "provenance": [],
      "collapsed_sections": []
    },
    "kernelspec": {
      "name": "python3",
      "display_name": "Python 3"
    },
    "language_info": {
      "name": "python"
    },
    "accelerator": "GPU"
  },
  "cells": [
    {
      "cell_type": "code",
      "metadata": {
        "id": "hZnMH1pDbseI"
      },
      "source": [
        "import pandas as pd\n",
        "import numpy as np\n",
        "import seaborn as sns\n",
        "import matplotlib.pyplot as plt\n",
        "from sklearn import preprocessing"
      ],
      "execution_count": 14,
      "outputs": []
    },
    {
      "cell_type": "code",
      "metadata": {
        "colab": {
          "base_uri": "https://localhost:8080/",
          "height": 452
        },
        "id": "M2BIscU7cGL3",
        "outputId": "970170c5-d215-4074-c63e-06dfe9ef6047"
      },
      "source": [
        "df = pd.read_csv('cleaned data.csv')\n",
        "df.head()"
      ],
      "execution_count": 2,
      "outputs": [
        {
          "output_type": "execute_result",
          "data": {
            "text/html": [
              "<div>\n",
              "<style scoped>\n",
              "    .dataframe tbody tr th:only-of-type {\n",
              "        vertical-align: middle;\n",
              "    }\n",
              "\n",
              "    .dataframe tbody tr th {\n",
              "        vertical-align: top;\n",
              "    }\n",
              "\n",
              "    .dataframe thead th {\n",
              "        text-align: right;\n",
              "    }\n",
              "</style>\n",
              "<table border=\"1\" class=\"dataframe\">\n",
              "  <thead>\n",
              "    <tr style=\"text-align: right;\">\n",
              "      <th></th>\n",
              "      <th>Brand</th>\n",
              "      <th>Store Number</th>\n",
              "      <th>Store Name</th>\n",
              "      <th>Ownership Type</th>\n",
              "      <th>Street Address</th>\n",
              "      <th>City</th>\n",
              "      <th>State/Province</th>\n",
              "      <th>Country</th>\n",
              "      <th>Postcode</th>\n",
              "      <th>Phone Number</th>\n",
              "      <th>Timezone</th>\n",
              "      <th>Longitude</th>\n",
              "      <th>Latitude</th>\n",
              "    </tr>\n",
              "  </thead>\n",
              "  <tbody>\n",
              "    <tr>\n",
              "      <th>0</th>\n",
              "      <td>Starbucks</td>\n",
              "      <td>47370-257954</td>\n",
              "      <td>Meritxell, 96</td>\n",
              "      <td>Licensed</td>\n",
              "      <td>Av. Meritxell, 96</td>\n",
              "      <td>Andorra la Vella</td>\n",
              "      <td>7</td>\n",
              "      <td>AD</td>\n",
              "      <td>AD500</td>\n",
              "      <td>376818720</td>\n",
              "      <td>GMT+1:00 Europe/Andorra</td>\n",
              "      <td>1.53</td>\n",
              "      <td>42.51</td>\n",
              "    </tr>\n",
              "    <tr>\n",
              "      <th>1</th>\n",
              "      <td>Starbucks</td>\n",
              "      <td>24932-239347</td>\n",
              "      <td>Al Mamoura</td>\n",
              "      <td>Licensed</td>\n",
              "      <td>Al Mamoura, Al Muroor District</td>\n",
              "      <td>Abu Dhabi</td>\n",
              "      <td>AZ</td>\n",
              "      <td>AE</td>\n",
              "      <td>51133</td>\n",
              "      <td>Not avaiable</td>\n",
              "      <td>GMT+04:00 Asia/Dubai</td>\n",
              "      <td>54.39</td>\n",
              "      <td>24.46</td>\n",
              "    </tr>\n",
              "    <tr>\n",
              "      <th>2</th>\n",
              "      <td>Starbucks</td>\n",
              "      <td>24931-239348</td>\n",
              "      <td>Raha Garden</td>\n",
              "      <td>Licensed</td>\n",
              "      <td>Raha Gardens Plaza</td>\n",
              "      <td>Abu Dhabi</td>\n",
              "      <td>AZ</td>\n",
              "      <td>AE</td>\n",
              "      <td>51133</td>\n",
              "      <td>Not avaiable</td>\n",
              "      <td>GMT+04:00 Asia/Dubai</td>\n",
              "      <td>54.37</td>\n",
              "      <td>24.47</td>\n",
              "    </tr>\n",
              "    <tr>\n",
              "      <th>3</th>\n",
              "      <td>Starbucks</td>\n",
              "      <td>27072-246650</td>\n",
              "      <td>Reel Cinema</td>\n",
              "      <td>Licensed</td>\n",
              "      <td>Reel Cinema, Dubai Mall, Second Floor</td>\n",
              "      <td>Dubai</td>\n",
              "      <td>DU</td>\n",
              "      <td>AE</td>\n",
              "      <td>113444</td>\n",
              "      <td>Not avaiable</td>\n",
              "      <td>GMT+04:00 Asia/Muscat</td>\n",
              "      <td>55.60</td>\n",
              "      <td>24.78</td>\n",
              "    </tr>\n",
              "    <tr>\n",
              "      <th>4</th>\n",
              "      <td>Starbucks</td>\n",
              "      <td>25406-240945</td>\n",
              "      <td>Bin Sougat</td>\n",
              "      <td>Licensed</td>\n",
              "      <td>Al Khawaneej Road, Al Rashidiya</td>\n",
              "      <td>Dubai</td>\n",
              "      <td>DU</td>\n",
              "      <td>AE</td>\n",
              "      <td>10170</td>\n",
              "      <td>Not avaiable</td>\n",
              "      <td>GMT+04:00 Asia/Dubai</td>\n",
              "      <td>55.40</td>\n",
              "      <td>25.23</td>\n",
              "    </tr>\n",
              "  </tbody>\n",
              "</table>\n",
              "</div>"
            ],
            "text/plain": [
              "       Brand  Store Number  ... Longitude Latitude\n",
              "0  Starbucks  47370-257954  ...      1.53    42.51\n",
              "1  Starbucks  24932-239347  ...     54.39    24.46\n",
              "2  Starbucks  24931-239348  ...     54.37    24.47\n",
              "3  Starbucks  27072-246650  ...     55.60    24.78\n",
              "4  Starbucks  25406-240945  ...     55.40    25.23\n",
              "\n",
              "[5 rows x 13 columns]"
            ]
          },
          "metadata": {
            "tags": []
          },
          "execution_count": 2
        }
      ]
    },
    {
      "cell_type": "code",
      "metadata": {
        "colab": {
          "base_uri": "https://localhost:8080/"
        },
        "id": "igB60zrTcorz",
        "outputId": "6813d691-492d-4f79-a5e5-d7600cb80008"
      },
      "source": [
        "df.shape"
      ],
      "execution_count": 3,
      "outputs": [
        {
          "output_type": "execute_result",
          "data": {
            "text/plain": [
              "(22622, 13)"
            ]
          },
          "metadata": {
            "tags": []
          },
          "execution_count": 3
        }
      ]
    },
    {
      "cell_type": "markdown",
      "metadata": {
        "id": "vAo09kDijv7r"
      },
      "source": [
        "Let's create some hypothetical sceanrio, we'd be adding these fatures to our source data(adding extra features won't change the previous features) - \n",
        "\n",
        "Potential: total capacity in terms of staff (e.g. 10 means that the store can have up to 10 employees)\n",
        "\n",
        "Staff: current staff level (e.g. 7 means that the store is currently operating with 7 employees)\n",
        "\n",
        "Capacity: current left capacity (e.g. 10–7=3, the store can still host 3 employees)\n",
        "\n",
        "Cost: annual cost for the company to keep the store operating (“low”, “medium”, “high”)"
      ]
    },
    {
      "cell_type": "code",
      "metadata": {
        "colab": {
          "base_uri": "https://localhost:8080/",
          "height": 488
        },
        "id": "EgmwNMSHin1g",
        "outputId": "63158a00-03ee-48b4-c96c-3623823660e7"
      },
      "source": [
        "df[\"Potential\"] = np.random.randint(low=3, high=10+1, size=len(df))\n",
        "df[\"Staff\"] = df[\"Potential\"].apply(lambda x: int(np.random.rand()*x)+1)\n",
        "df[\"Capacity\"] = df[\"Potential\"] - df[\"Staff\"]\n",
        "df[\"Cost\"] = np.random.choice([\"high\",\"medium\",\"low\"], size=len(df), p=[0.4,0.5,0.1])\n",
        "df.head()"
      ],
      "execution_count": 4,
      "outputs": [
        {
          "output_type": "execute_result",
          "data": {
            "text/html": [
              "<div>\n",
              "<style scoped>\n",
              "    .dataframe tbody tr th:only-of-type {\n",
              "        vertical-align: middle;\n",
              "    }\n",
              "\n",
              "    .dataframe tbody tr th {\n",
              "        vertical-align: top;\n",
              "    }\n",
              "\n",
              "    .dataframe thead th {\n",
              "        text-align: right;\n",
              "    }\n",
              "</style>\n",
              "<table border=\"1\" class=\"dataframe\">\n",
              "  <thead>\n",
              "    <tr style=\"text-align: right;\">\n",
              "      <th></th>\n",
              "      <th>Brand</th>\n",
              "      <th>Store Number</th>\n",
              "      <th>Store Name</th>\n",
              "      <th>Ownership Type</th>\n",
              "      <th>Street Address</th>\n",
              "      <th>City</th>\n",
              "      <th>State/Province</th>\n",
              "      <th>Country</th>\n",
              "      <th>Postcode</th>\n",
              "      <th>Phone Number</th>\n",
              "      <th>Timezone</th>\n",
              "      <th>Longitude</th>\n",
              "      <th>Latitude</th>\n",
              "      <th>Potential</th>\n",
              "      <th>Staff</th>\n",
              "      <th>Capacity</th>\n",
              "      <th>Cost</th>\n",
              "    </tr>\n",
              "  </thead>\n",
              "  <tbody>\n",
              "    <tr>\n",
              "      <th>0</th>\n",
              "      <td>Starbucks</td>\n",
              "      <td>47370-257954</td>\n",
              "      <td>Meritxell, 96</td>\n",
              "      <td>Licensed</td>\n",
              "      <td>Av. Meritxell, 96</td>\n",
              "      <td>Andorra la Vella</td>\n",
              "      <td>7</td>\n",
              "      <td>AD</td>\n",
              "      <td>AD500</td>\n",
              "      <td>376818720</td>\n",
              "      <td>GMT+1:00 Europe/Andorra</td>\n",
              "      <td>1.53</td>\n",
              "      <td>42.51</td>\n",
              "      <td>10</td>\n",
              "      <td>2</td>\n",
              "      <td>8</td>\n",
              "      <td>low</td>\n",
              "    </tr>\n",
              "    <tr>\n",
              "      <th>1</th>\n",
              "      <td>Starbucks</td>\n",
              "      <td>24932-239347</td>\n",
              "      <td>Al Mamoura</td>\n",
              "      <td>Licensed</td>\n",
              "      <td>Al Mamoura, Al Muroor District</td>\n",
              "      <td>Abu Dhabi</td>\n",
              "      <td>AZ</td>\n",
              "      <td>AE</td>\n",
              "      <td>51133</td>\n",
              "      <td>Not avaiable</td>\n",
              "      <td>GMT+04:00 Asia/Dubai</td>\n",
              "      <td>54.39</td>\n",
              "      <td>24.46</td>\n",
              "      <td>9</td>\n",
              "      <td>2</td>\n",
              "      <td>7</td>\n",
              "      <td>medium</td>\n",
              "    </tr>\n",
              "    <tr>\n",
              "      <th>2</th>\n",
              "      <td>Starbucks</td>\n",
              "      <td>24931-239348</td>\n",
              "      <td>Raha Garden</td>\n",
              "      <td>Licensed</td>\n",
              "      <td>Raha Gardens Plaza</td>\n",
              "      <td>Abu Dhabi</td>\n",
              "      <td>AZ</td>\n",
              "      <td>AE</td>\n",
              "      <td>51133</td>\n",
              "      <td>Not avaiable</td>\n",
              "      <td>GMT+04:00 Asia/Dubai</td>\n",
              "      <td>54.37</td>\n",
              "      <td>24.47</td>\n",
              "      <td>6</td>\n",
              "      <td>3</td>\n",
              "      <td>3</td>\n",
              "      <td>high</td>\n",
              "    </tr>\n",
              "    <tr>\n",
              "      <th>3</th>\n",
              "      <td>Starbucks</td>\n",
              "      <td>27072-246650</td>\n",
              "      <td>Reel Cinema</td>\n",
              "      <td>Licensed</td>\n",
              "      <td>Reel Cinema, Dubai Mall, Second Floor</td>\n",
              "      <td>Dubai</td>\n",
              "      <td>DU</td>\n",
              "      <td>AE</td>\n",
              "      <td>113444</td>\n",
              "      <td>Not avaiable</td>\n",
              "      <td>GMT+04:00 Asia/Muscat</td>\n",
              "      <td>55.60</td>\n",
              "      <td>24.78</td>\n",
              "      <td>7</td>\n",
              "      <td>7</td>\n",
              "      <td>0</td>\n",
              "      <td>high</td>\n",
              "    </tr>\n",
              "    <tr>\n",
              "      <th>4</th>\n",
              "      <td>Starbucks</td>\n",
              "      <td>25406-240945</td>\n",
              "      <td>Bin Sougat</td>\n",
              "      <td>Licensed</td>\n",
              "      <td>Al Khawaneej Road, Al Rashidiya</td>\n",
              "      <td>Dubai</td>\n",
              "      <td>DU</td>\n",
              "      <td>AE</td>\n",
              "      <td>10170</td>\n",
              "      <td>Not avaiable</td>\n",
              "      <td>GMT+04:00 Asia/Dubai</td>\n",
              "      <td>55.40</td>\n",
              "      <td>25.23</td>\n",
              "      <td>8</td>\n",
              "      <td>5</td>\n",
              "      <td>3</td>\n",
              "      <td>low</td>\n",
              "    </tr>\n",
              "  </tbody>\n",
              "</table>\n",
              "</div>"
            ],
            "text/plain": [
              "       Brand  Store Number     Store Name  ... Staff Capacity    Cost\n",
              "0  Starbucks  47370-257954  Meritxell, 96  ...     2        8     low\n",
              "1  Starbucks  24932-239347     Al Mamoura  ...     2        7  medium\n",
              "2  Starbucks  24931-239348    Raha Garden  ...     3        3    high\n",
              "3  Starbucks  27072-246650    Reel Cinema  ...     7        0    high\n",
              "4  Starbucks  25406-240945     Bin Sougat  ...     5        3     low\n",
              "\n",
              "[5 rows x 17 columns]"
            ]
          },
          "metadata": {
            "tags": []
          },
          "execution_count": 4
        }
      ]
    },
    {
      "cell_type": "code",
      "metadata": {
        "colab": {
          "base_uri": "https://localhost:8080/",
          "height": 294
        },
        "id": "2C733gYikYMI",
        "outputId": "703f242b-1d83-4be7-968b-1ba4610e5b37"
      },
      "source": [
        "df.describe()"
      ],
      "execution_count": 5,
      "outputs": [
        {
          "output_type": "execute_result",
          "data": {
            "text/html": [
              "<div>\n",
              "<style scoped>\n",
              "    .dataframe tbody tr th:only-of-type {\n",
              "        vertical-align: middle;\n",
              "    }\n",
              "\n",
              "    .dataframe tbody tr th {\n",
              "        vertical-align: top;\n",
              "    }\n",
              "\n",
              "    .dataframe thead th {\n",
              "        text-align: right;\n",
              "    }\n",
              "</style>\n",
              "<table border=\"1\" class=\"dataframe\">\n",
              "  <thead>\n",
              "    <tr style=\"text-align: right;\">\n",
              "      <th></th>\n",
              "      <th>Longitude</th>\n",
              "      <th>Latitude</th>\n",
              "      <th>Potential</th>\n",
              "      <th>Staff</th>\n",
              "      <th>Capacity</th>\n",
              "    </tr>\n",
              "  </thead>\n",
              "  <tbody>\n",
              "    <tr>\n",
              "      <th>count</th>\n",
              "      <td>22621.000000</td>\n",
              "      <td>22621.000000</td>\n",
              "      <td>22622.000000</td>\n",
              "      <td>22622.000000</td>\n",
              "      <td>22622.000000</td>\n",
              "    </tr>\n",
              "    <tr>\n",
              "      <th>mean</th>\n",
              "      <td>-37.107338</td>\n",
              "      <td>36.119728</td>\n",
              "      <td>6.502343</td>\n",
              "      <td>3.758156</td>\n",
              "      <td>2.744187</td>\n",
              "    </tr>\n",
              "    <tr>\n",
              "      <th>std</th>\n",
              "      <td>94.914676</td>\n",
              "      <td>11.728042</td>\n",
              "      <td>2.286470</td>\n",
              "      <td>2.278961</td>\n",
              "      <td>2.281489</td>\n",
              "    </tr>\n",
              "    <tr>\n",
              "      <th>min</th>\n",
              "      <td>-159.460000</td>\n",
              "      <td>-36.790000</td>\n",
              "      <td>3.000000</td>\n",
              "      <td>1.000000</td>\n",
              "      <td>0.000000</td>\n",
              "    </tr>\n",
              "    <tr>\n",
              "      <th>25%</th>\n",
              "      <td>-111.010000</td>\n",
              "      <td>32.970000</td>\n",
              "      <td>5.000000</td>\n",
              "      <td>2.000000</td>\n",
              "      <td>1.000000</td>\n",
              "    </tr>\n",
              "    <tr>\n",
              "      <th>50%</th>\n",
              "      <td>-81.680000</td>\n",
              "      <td>37.430000</td>\n",
              "      <td>6.000000</td>\n",
              "      <td>3.000000</td>\n",
              "      <td>2.000000</td>\n",
              "    </tr>\n",
              "    <tr>\n",
              "      <th>75%</th>\n",
              "      <td>29.020000</td>\n",
              "      <td>41.880000</td>\n",
              "      <td>8.000000</td>\n",
              "      <td>5.000000</td>\n",
              "      <td>4.000000</td>\n",
              "    </tr>\n",
              "    <tr>\n",
              "      <th>max</th>\n",
              "      <td>143.200000</td>\n",
              "      <td>64.850000</td>\n",
              "      <td>10.000000</td>\n",
              "      <td>10.000000</td>\n",
              "      <td>9.000000</td>\n",
              "    </tr>\n",
              "  </tbody>\n",
              "</table>\n",
              "</div>"
            ],
            "text/plain": [
              "          Longitude      Latitude     Potential         Staff      Capacity\n",
              "count  22621.000000  22621.000000  22622.000000  22622.000000  22622.000000\n",
              "mean     -37.107338     36.119728      6.502343      3.758156      2.744187\n",
              "std       94.914676     11.728042      2.286470      2.278961      2.281489\n",
              "min     -159.460000    -36.790000      3.000000      1.000000      0.000000\n",
              "25%     -111.010000     32.970000      5.000000      2.000000      1.000000\n",
              "50%      -81.680000     37.430000      6.000000      3.000000      2.000000\n",
              "75%       29.020000     41.880000      8.000000      5.000000      4.000000\n",
              "max      143.200000     64.850000     10.000000     10.000000      9.000000"
            ]
          },
          "metadata": {
            "tags": []
          },
          "execution_count": 5
        }
      ]
    },
    {
      "cell_type": "code",
      "metadata": {
        "colab": {
          "base_uri": "https://localhost:8080/",
          "height": 392
        },
        "id": "zXopOB-Qk6gX",
        "outputId": "5e94d40e-ec01-49ea-edba-b363b41ec280"
      },
      "source": [
        "df[['Potential','Staff','Capacity']].plot(kind = 'box', figsize = (10,6))"
      ],
      "execution_count": 6,
      "outputs": [
        {
          "output_type": "execute_result",
          "data": {
            "text/plain": [
              "<matplotlib.axes._subplots.AxesSubplot at 0x7f0e6a5c49d0>"
            ]
          },
          "metadata": {
            "tags": []
          },
          "execution_count": 6
        },
        {
          "output_type": "display_data",
          "data": {
            "image/png": "[encoded data removed]",
            "text/plain": [
              "<Figure size 720x432 with 1 Axes>"
            ]
          },
          "metadata": {
            "tags": [],
            "needs_background": "light"
          }
        }
      ]
    },
    {
      "cell_type": "markdown",
      "metadata": {
        "id": "Kbq8MoI4muuA"
      },
      "source": [
        "## Data Analysis\n",
        "\n",
        "\n",
        "Let’s pretend we own a retail business and we have to close some stores. We would want to do that maximizing the profit (by minimizing the cost) and without laying off any staff."
      ]
    },
    {
      "cell_type": "code",
      "metadata": {
        "colab": {
          "base_uri": "https://localhost:8080/",
          "height": 296
        },
        "id": "ekjqoYxnlDZh",
        "outputId": "2bc97598-e01e-40ec-a879-f52b45116c2f"
      },
      "source": [
        "sns.set_theme(style=\"whitegrid\")\n",
        "ax = sns.barplot(y = df['Cost'].unique(),x = df['Cost'].value_counts().values/df.shape[0]*100,\n",
        "                    orient = 'h',\n",
        "                    palette=\"Blues_d\"\n",
        "            )\n",
        "totals = []\n",
        "for i in ax.patches:\n",
        "    totals.append(i.get_width())\n",
        "total = sum(totals)\n",
        "for i in ax.patches:\n",
        "     ax.text(i.get_width()+.3, i.get_y()+.20, \n",
        "     str(round((i.get_width()/total)*100, 2))+'%', \n",
        "     fontsize=10, color='black')\n",
        "ax.grid(axis=\"x\")\n",
        "plt.suptitle('Cost', fontsize=20)\n",
        "plt.show()"
      ],
      "execution_count": 7,
      "outputs": [
        {
          "output_type": "display_data",
          "data": {
            "image/png": "[encoded data removed]",
            "text/plain": [
              "<Figure size 432x288 with 1 Axes>"
            ]
          },
          "metadata": {
            "tags": []
          }
        }
      ]
    },
    {
      "cell_type": "markdown",
      "metadata": {
        "id": "hdolAreW4ShX"
      },
      "source": [
        "for i in ax.patches:\n",
        "  \n",
        "  print(i)\n",
        "\n",
        "\n",
        "Returns:\n",
        "\n",
        "Rectangle(xy=(0, -0.4), width=49.6066, height=0.8, angle=0)\n",
        "\n",
        "Rectangle(xy=(0, 0.6), width=40.3192, height=0.8, angle=0)\n",
        "\n",
        "Rectangle(xy=(0, 1.6), width=10.0743, height=0.8, angle=0)"
      ]
    },
    {
      "cell_type": "code",
      "metadata": {
        "colab": {
          "base_uri": "https://localhost:8080/",
          "height": 357
        },
        "id": "K3lhBEFl4I5O",
        "outputId": "48fa908e-8896-4a46-9ef2-f4a87807c19e"
      },
      "source": [
        "sns.countplot(df.Capacity)"
      ],
      "execution_count": 8,
      "outputs": [
        {
          "output_type": "stream",
          "text": [
            "/usr/local/lib/python3.7/dist-packages/seaborn/_decorators.py:43: FutureWarning: Pass the following variable as a keyword arg: x. From version 0.12, the only valid positional argument will be `data`, and passing other arguments without an explicit keyword will result in an error or misinterpretation.\n",
            "  FutureWarning\n"
          ],
          "name": "stderr"
        },
        {
          "output_type": "execute_result",
          "data": {
            "text/plain": [
              "<matplotlib.axes._subplots.AxesSubplot at 0x7f0e6a4d0910>"
            ]
          },
          "metadata": {
            "tags": []
          },
          "execution_count": 8
        },
        {
          "output_type": "display_data",
          "data": {
            "image/png": "[encoded data removed]",
            "text/plain": [
              "<Figure size 432x288 with 1 Axes>"
            ]
          },
          "metadata": {
            "tags": []
          }
        }
      ]
    },
    {
      "cell_type": "markdown",
      "metadata": {
        "id": "-vij9RMR7Ov7"
      },
      "source": [
        "From the above plot we see that many of the stores are not working at full-capacity. Here 0 indicates full capacity,i.e.no additional person is required\n",
        "\n",
        "Now we'll try to analyze these information with geopy.  I need to get the coordinates of the geographic area to start up the map. I shall do that with geopy"
      ]
    },
    {
      "cell_type": "code",
      "metadata": {
        "id": "UQfZqUp85v9q"
      },
      "source": [
        "## for geospatial\n",
        "import folium\n",
        "import geopy"
      ],
      "execution_count": 9,
      "outputs": []
    },
    {
      "cell_type": "code",
      "metadata": {
        "colab": {
          "base_uri": "https://localhost:8080/"
        },
        "id": "v756VWou8YNR",
        "outputId": "ab356f51-e612-4380-c9c9-c11118e731e7"
      },
      "source": [
        "city = \"Las Vegas\"\n",
        "## get location\n",
        "locator = geopy.geocoders.Nominatim(user_agent=\"MyCoder\")\n",
        "location = locator.geocode(city)\n",
        "print(location)\n",
        "## keep latitude and longitude only\n",
        "location = [location.latitude, location.longitude]\n",
        "print(\"[lat, long]:\", location)"
      ],
      "execution_count": 10,
      "outputs": [
        {
          "output_type": "stream",
          "text": [
            "Las Vegas, Clark County, Nevada, United States\n",
            "[lat, long]: [36.1672559, -115.148516]\n"
          ],
          "name": "stdout"
        }
      ]
    },
    {
      "cell_type": "markdown",
      "metadata": {
        "id": "8MpO-xW_9Oj7"
      },
      "source": [
        "I am going to create the map with folium, a really convenient package that allows us to plot interactive maps without needing to load a shapefile. Each store shall be identified by a point with size proportional to its current staff and color based on its cost. I’m also going to add a small piece of HTML code to the default map to display the legend."
      ]
    },
    {
      "cell_type": "code",
      "metadata": {
        "id": "zVGpZY4X-Any"
      },
      "source": [
        "x, y = \"Latitude\", \"Longitude\"\n",
        "color = \"Cost\"\n",
        "size = \"Staff\"\n",
        "popup = \"Street Address\"\n",
        "data = df.copy()"
      ],
      "execution_count": 65,
      "outputs": []
    },
    {
      "cell_type": "code",
      "metadata": {
        "id": "IRxalavj-Fyi"
      },
      "source": [
        "## create color column\n",
        "lst_colors=[\"red\",\"green\",\"orange\"]\n",
        "lst_elements = sorted(list(df[color].unique()))\n",
        "data[\"color\"] = data[color].apply(lambda x: \n",
        "                lst_colors[lst_elements.index(x)])\n",
        "\n",
        "# lst_elements.index(\"medium\") = 2 => \"orange\"\n",
        "# lst_elements.index(\"high\") = 0 => \"red\"\n",
        "# lst_elements.index(\"low\") = 1 => \"green\""
      ],
      "execution_count": 66,
      "outputs": []
    },
    {
      "cell_type": "code",
      "metadata": {
        "id": "INuYPdYC0sjU"
      },
      "source": [
        "## create size column (scaled)\n",
        "#print(data['size'].min(),data['size'].max())\n",
        "scaler = preprocessing.MinMaxScaler(feature_range=(3,15))\n",
        "data[\"size\"] = scaler.fit_transform(\n",
        "               data[size].values.reshape(-1,1)).reshape(-1)"
      ],
      "execution_count": 68,
      "outputs": []
    },
    {
      "cell_type": "code",
      "metadata": {
        "colab": {
          "base_uri": "https://localhost:8080/",
          "height": 674
        },
        "id": "D02AxzZN0tjn",
        "outputId": "e63e18eb-4042-4850-fe38-5273fa314e45"
      },
      "source": [
        "## initialize the map with the starting location\n",
        "map_ = folium.Map(location=location, tiles=\"cartodbpositron\",\n",
        "                  zoom_start=11)\n",
        "map_\n",
        "#let's visualize the map with Las Vegas's latitude & Longitude"
      ],
      "execution_count": 27,
      "outputs": [
        {
          "output_type": "execute_result",
          "data": {
            "text/html": [
              "<div style=\"width:100%;\"><div style=\"position:relative;width:100%;height:0;padding-bottom:60%;\"><span style=\"color:#565656\">Make this Notebook Trusted to load map: File -> Trust Notebook</span><iframe src=\"about:blank\" style=\"position:absolute;width:100%;height:100%;left:0;top:0;border:none !important;\" data-html=%3C%21DOCTYPE%20html%3E%0A%3Chead%3E%20%20%20%20%0A%20%20%20%20%3Cmeta%20http-equiv%3D%22content-type%22%20content%3D%22text/html%3B%20charset%3DUTF-8%22%20/%3E%0A%20%20%20%20%3Cscript%3EL_PREFER_CANVAS%3Dfalse%3B%20L_NO_TOUCH%3Dfalse%3B%20L_DISABLE_3D%3Dfalse%3B%3C/script%3E%0A%20%20%20%20%3Cscript%20src%3D%22https%3A//cdn.jsdelivr.net/npm/leaflet%401.4.0/dist/leaflet.js%22%3E%3C/script%3E%0A%20%20%20%20%3Cscript%20src%3D%22https%3A//code.jquery.com/jquery-1.12.4.min.js%22%3E%3C/script%3E%0A%20%20%20%20%3Cscript%20src%3D%22https%3A//maxcdn.bootstrapcdn.com/bootstrap/3.2.0/js/bootstrap.min.js%22%3E%3C/script%3E%0A%20%20%20%20%3Cscript%20src%3D%22https%3A//cdnjs.cloudflare.com/ajax/libs/Leaflet.awesome-markers/2.0.2/leaflet.awesome-markers.js%22%3E%3C/script%3E%0A%20%20%20%20%3Clink%20rel%3D%22stylesheet%22%20href%3D%22https%3A//cdn.jsdelivr.net/npm/leaflet%401.4.0/dist/leaflet.css%22/%3E%0A%20%20%20%20%3Clink%20rel%3D%22stylesheet%22%20href%3D%22https%3A//maxcdn.bootstrapcdn.com/bootstrap/3.2.0/css/bootstrap.min.css%22/%3E%0A%20%20%20%20%3Clink%20rel%3D%22stylesheet%22%20href%3D%22https%3A//maxcdn.bootstrapcdn.com/bootstrap/3.2.0/css/bootstrap-theme.min.css%22/%3E%0A%20%20%20%20%3Clink%20rel%3D%22stylesheet%22%20href%3D%22https%3A//maxcdn.bootstrapcdn.com/font-awesome/4.6.3/css/font-awesome.min.css%22/%3E%0A%20%20%20%20%3Clink%20rel%3D%22stylesheet%22%20href%3D%22https%3A//cdnjs.cloudflare.com/ajax/libs/Leaflet.awesome-markers/2.0.2/leaflet.awesome-markers.css%22/%3E%0A%20%20%20%20%3Clink%20rel%3D%22stylesheet%22%20href%3D%22https%3A//rawcdn.githack.com/python-visualization/folium/master/folium/templates/leaflet.awesome.rotate.css%22/%3E%0A%20%20%20%20%3Cstyle%3Ehtml%2C%20body%20%7Bwidth%3A%20100%25%3Bheight%3A%20100%25%3Bmargin%3A%200%3Bpadding%3A%200%3B%7D%3C/style%3E%0A%20%20%20%20%3Cstyle%3E%23map%20%7Bposition%3Aabsolute%3Btop%3A0%3Bbottom%3A0%3Bright%3A0%3Bleft%3A0%3B%7D%3C/style%3E%0A%20%20%20%20%0A%20%20%20%20%3Cmeta%20name%3D%22viewport%22%20content%3D%22width%3Ddevice-width%2C%0A%20%20%20%20%20%20%20%20initial-scale%3D1.0%2C%20maximum-scale%3D1.0%2C%20user-scalable%3Dno%22%20/%3E%0A%20%20%20%20%3Cstyle%3E%23map_f90bb4278e91450c8c5737c7350d99b3%20%7B%0A%20%20%20%20%20%20%20%20position%3A%20relative%3B%0A%20%20%20%20%20%20%20%20width%3A%20100.0%25%3B%0A%20%20%20%20%20%20%20%20height%3A%20100.0%25%3B%0A%20%20%20%20%20%20%20%20left%3A%200.0%25%3B%0A%20%20%20%20%20%20%20%20top%3A%200.0%25%3B%0A%20%20%20%20%20%20%20%20%7D%0A%20%20%20%20%3C/style%3E%0A%3C/head%3E%0A%3Cbody%3E%20%20%20%20%0A%20%20%20%20%0A%20%20%20%20%3Cdiv%20class%3D%22folium-map%22%20id%3D%22map_f90bb4278e91450c8c5737c7350d99b3%22%20%3E%3C/div%3E%0A%3C/body%3E%0A%3Cscript%3E%20%20%20%20%0A%20%20%20%20%0A%20%20%20%20%0A%20%20%20%20%20%20%20%20var%20bounds%20%3D%20null%3B%0A%20%20%20%20%0A%0A%20%20%20%20var%20map_f90bb4278e91450c8c5737c7350d99b3%20%3D%20L.map%28%0A%20%20%20%20%20%20%20%20%27map_f90bb4278e91450c8c5737c7350d99b3%27%2C%20%7B%0A%20%20%20%20%20%20%20%20center%3A%20%5B36.1672559%2C%20-115.148516%5D%2C%0A%20%20%20%20%20%20%20%20zoom%3A%2011%2C%0A%20%20%20%20%20%20%20%20maxBounds%3A%20bounds%2C%0A%20%20%20%20%20%20%20%20layers%3A%20%5B%5D%2C%0A%20%20%20%20%20%20%20%20worldCopyJump%3A%20false%2C%0A%20%20%20%20%20%20%20%20crs%3A%20L.CRS.EPSG3857%2C%0A%20%20%20%20%20%20%20%20zoomControl%3A%20true%2C%0A%20%20%20%20%20%20%20%20%7D%29%3B%0A%0A%0A%20%20%20%20%0A%20%20%20%20var%20tile_layer_6ed90a167d944959aaeeabcf9cc9ea3f%20%3D%20L.tileLayer%28%0A%20%20%20%20%20%20%20%20%27https%3A//cartodb-basemaps-%7Bs%7D.global.ssl.fastly.net/light_all/%7Bz%7D/%7Bx%7D/%7By%7D.png%27%2C%0A%20%20%20%20%20%20%20%20%7B%0A%20%20%20%20%20%20%20%20%22attribution%22%3A%20null%2C%0A%20%20%20%20%20%20%20%20%22detectRetina%22%3A%20false%2C%0A%20%20%20%20%20%20%20%20%22maxNativeZoom%22%3A%2018%2C%0A%20%20%20%20%20%20%20%20%22maxZoom%22%3A%2018%2C%0A%20%20%20%20%20%20%20%20%22minZoom%22%3A%200%2C%0A%20%20%20%20%20%20%20%20%22noWrap%22%3A%20false%2C%0A%20%20%20%20%20%20%20%20%22opacity%22%3A%201%2C%0A%20%20%20%20%20%20%20%20%22subdomains%22%3A%20%22abc%22%2C%0A%20%20%20%20%20%20%20%20%22tms%22%3A%20false%0A%7D%29.addTo%28map_f90bb4278e91450c8c5737c7350d99b3%29%3B%0A%3C/script%3E onload=\"this.contentDocument.open();this.contentDocument.write(    decodeURIComponent(this.getAttribute('data-html')));this.contentDocument.close();\" allowfullscreen webkitallowfullscreen mozallowfullscreen></iframe></div></div>"
            ],
            "text/plain": [
              "<folium.folium.Map at 0x7f0e637aefd0>"
            ]
          },
          "metadata": {
            "tags": []
          },
          "execution_count": 27
        }
      ]
    },
    {
      "cell_type": "code",
      "metadata": {
        "colab": {
          "base_uri": "https://localhost:8080/",
          "height": 471
        },
        "id": "16OUIK_q9-lr",
        "outputId": "673e2cbe-3fe4-4590-cad8-9479113297fd"
      },
      "source": [
        "# Let's create a figure object which we'll use to customize the map\n",
        "from branca.element import Figure\n",
        "fig=Figure(width=650,height=450)\n",
        "map = folium.Map(location=location, #tiles=\"cartodbpositron\",\n",
        "                  width=650,\n",
        "                  height=450,\n",
        "                  zoom_start=11,\n",
        "                  min_zoom=10,\n",
        "                  max_zoom=12)\n",
        "fig.add_child(map)"
      ],
      "execution_count": 38,
      "outputs": [
        {
          "output_type": "execute_result",
          "data": {
            "text/html": [
              "<iframe src=\"about:blank\" width=\"650\" height=\"450\"style=\"border:none !important;\" data-html=%3C%21DOCTYPE%20html%3E%0A%3Chead%3E%20%20%20%20%0A%20%20%20%20%3Cmeta%20http-equiv%3D%22content-type%22%20content%3D%22text/html%3B%20charset%3DUTF-8%22%20/%3E%0A%20%20%20%20%3Cscript%3EL_PREFER_CANVAS%3Dfalse%3B%20L_NO_TOUCH%3Dfalse%3B%20L_DISABLE_3D%3Dfalse%3B%3C/script%3E%0A%20%20%20%20%3Cscript%20src%3D%22https%3A//cdn.jsdelivr.net/npm/leaflet%401.4.0/dist/leaflet.js%22%3E%3C/script%3E%0A%20%20%20%20%3Cscript%20src%3D%22https%3A//code.jquery.com/jquery-1.12.4.min.js%22%3E%3C/script%3E%0A%20%20%20%20%3Cscript%20src%3D%22https%3A//maxcdn.bootstrapcdn.com/bootstrap/3.2.0/js/bootstrap.min.js%22%3E%3C/script%3E%0A%20%20%20%20%3Cscript%20src%3D%22https%3A//cdnjs.cloudflare.com/ajax/libs/Leaflet.awesome-markers/2.0.2/leaflet.awesome-markers.js%22%3E%3C/script%3E%0A%20%20%20%20%3Clink%20rel%3D%22stylesheet%22%20href%3D%22https%3A//cdn.jsdelivr.net/npm/leaflet%401.4.0/dist/leaflet.css%22/%3E%0A%20%20%20%20%3Clink%20rel%3D%22stylesheet%22%20href%3D%22https%3A//maxcdn.bootstrapcdn.com/bootstrap/3.2.0/css/bootstrap.min.css%22/%3E%0A%20%20%20%20%3Clink%20rel%3D%22stylesheet%22%20href%3D%22https%3A//maxcdn.bootstrapcdn.com/bootstrap/3.2.0/css/bootstrap-theme.min.css%22/%3E%0A%20%20%20%20%3Clink%20rel%3D%22stylesheet%22%20href%3D%22https%3A//maxcdn.bootstrapcdn.com/font-awesome/4.6.3/css/font-awesome.min.css%22/%3E%0A%20%20%20%20%3Clink%20rel%3D%22stylesheet%22%20href%3D%22https%3A//cdnjs.cloudflare.com/ajax/libs/Leaflet.awesome-markers/2.0.2/leaflet.awesome-markers.css%22/%3E%0A%20%20%20%20%3Clink%20rel%3D%22stylesheet%22%20href%3D%22https%3A//rawcdn.githack.com/python-visualization/folium/master/folium/templates/leaflet.awesome.rotate.css%22/%3E%0A%20%20%20%20%3Cstyle%3Ehtml%2C%20body%20%7Bwidth%3A%20100%25%3Bheight%3A%20100%25%3Bmargin%3A%200%3Bpadding%3A%200%3B%7D%3C/style%3E%0A%20%20%20%20%3Cstyle%3E%23map%20%7Bposition%3Aabsolute%3Btop%3A0%3Bbottom%3A0%3Bright%3A0%3Bleft%3A0%3B%7D%3C/style%3E%0A%20%20%20%20%0A%20%20%20%20%3Cmeta%20name%3D%22viewport%22%20content%3D%22width%3Ddevice-width%2C%0A%20%20%20%20%20%20%20%20initial-scale%3D1.0%2C%20maximum-scale%3D1.0%2C%20user-scalable%3Dno%22%20/%3E%0A%20%20%20%20%3Cstyle%3E%23map_6fc02d97609e4cc39acc3caf134fdd42%20%7B%0A%20%20%20%20%20%20%20%20position%3A%20relative%3B%0A%20%20%20%20%20%20%20%20width%3A%20650.0px%3B%0A%20%20%20%20%20%20%20%20height%3A%20450.0px%3B%0A%20%20%20%20%20%20%20%20left%3A%200.0%25%3B%0A%20%20%20%20%20%20%20%20top%3A%200.0%25%3B%0A%20%20%20%20%20%20%20%20%7D%0A%20%20%20%20%3C/style%3E%0A%3C/head%3E%0A%3Cbody%3E%20%20%20%20%0A%20%20%20%20%0A%20%20%20%20%3Cdiv%20class%3D%22folium-map%22%20id%3D%22map_6fc02d97609e4cc39acc3caf134fdd42%22%20%3E%3C/div%3E%0A%3C/body%3E%0A%3Cscript%3E%20%20%20%20%0A%20%20%20%20%0A%20%20%20%20%0A%20%20%20%20%20%20%20%20var%20bounds%20%3D%20null%3B%0A%20%20%20%20%0A%0A%20%20%20%20var%20map_6fc02d97609e4cc39acc3caf134fdd42%20%3D%20L.map%28%0A%20%20%20%20%20%20%20%20%27map_6fc02d97609e4cc39acc3caf134fdd42%27%2C%20%7B%0A%20%20%20%20%20%20%20%20center%3A%20%5B36.1672559%2C%20-115.148516%5D%2C%0A%20%20%20%20%20%20%20%20zoom%3A%2011%2C%0A%20%20%20%20%20%20%20%20maxBounds%3A%20bounds%2C%0A%20%20%20%20%20%20%20%20layers%3A%20%5B%5D%2C%0A%20%20%20%20%20%20%20%20worldCopyJump%3A%20false%2C%0A%20%20%20%20%20%20%20%20crs%3A%20L.CRS.EPSG3857%2C%0A%20%20%20%20%20%20%20%20zoomControl%3A%20true%2C%0A%20%20%20%20%20%20%20%20%7D%29%3B%0A%0A%0A%20%20%20%20%0A%20%20%20%20var%20tile_layer_fe177c54c2a34dc4848996bfd81d55cd%20%3D%20L.tileLayer%28%0A%20%20%20%20%20%20%20%20%27https%3A//%7Bs%7D.tile.openstreetmap.org/%7Bz%7D/%7Bx%7D/%7By%7D.png%27%2C%0A%20%20%20%20%20%20%20%20%7B%0A%20%20%20%20%20%20%20%20%22attribution%22%3A%20null%2C%0A%20%20%20%20%20%20%20%20%22detectRetina%22%3A%20false%2C%0A%20%20%20%20%20%20%20%20%22maxNativeZoom%22%3A%2012%2C%0A%20%20%20%20%20%20%20%20%22maxZoom%22%3A%2012%2C%0A%20%20%20%20%20%20%20%20%22minZoom%22%3A%2010%2C%0A%20%20%20%20%20%20%20%20%22noWrap%22%3A%20false%2C%0A%20%20%20%20%20%20%20%20%22opacity%22%3A%201%2C%0A%20%20%20%20%20%20%20%20%22subdomains%22%3A%20%22abc%22%2C%0A%20%20%20%20%20%20%20%20%22tms%22%3A%20false%0A%7D%29.addTo%28map_6fc02d97609e4cc39acc3caf134fdd42%29%3B%0A%3C/script%3E onload=\"this.contentDocument.open();this.contentDocument.write(    decodeURIComponent(this.getAttribute('data-html')));this.contentDocument.close();\" \"allowfullscreen\" \"webkitallowfullscreen\" \"mozallowfullscreen\"></iframe>"
            ],
            "text/plain": [
              "<branca.element.Figure at 0x7f0e6377cdd0>"
            ]
          },
          "metadata": {
            "tags": []
          },
          "execution_count": 38
        }
      ]
    },
    {
      "cell_type": "markdown",
      "metadata": {
        "id": "rmP2kdNSAqXc"
      },
      "source": [
        "A tileset is a collection of raster and vector data broken up into a uniform grid of square tiles. Each tileset has a different way of representing data in the map. Folium allows us to create maps with different tiles like Stamen Terrain, Stamen Toner, Stamen Water Color, CartoDB Positron, and many more. By default, the tiles are set to OpenStreetMap.\n",
        "\n",
        "Since now we know that each tileset provides information in a different way and serves a different purpose, we can layer them over one another to get more information by just plotting a single map. We can do this by adding different layers of tiles to a single map:"
      ]
    },
    {
      "cell_type": "code",
      "metadata": {
        "colab": {
          "base_uri": "https://localhost:8080/",
          "height": 471
        },
        "id": "f9a1JntjBOlI",
        "outputId": "23f68b96-a886-4689-fe4b-d53f4c876ac3"
      },
      "source": [
        "fig=Figure(width=650,height=450)\n",
        "map = folium.Map(location=location,\n",
        "                  width=650,\n",
        "                  height=450,\n",
        "                  zoom_start=11,\n",
        "                  min_zoom=10,\n",
        "                  max_zoom=12)\n",
        "folium.TileLayer('Stamen Terrain').add_to(map)\n",
        "folium.TileLayer('Stamen Toner').add_to(map)\n",
        "folium.TileLayer('Stamen Water Color').add_to(map)\n",
        "folium.TileLayer('cartodbpositron').add_to(map)\n",
        "folium.TileLayer('cartodbdark_matter').add_to(map)\n",
        "folium.LayerControl().add_to(map)\n",
        "fig.add_child(map)"
      ],
      "execution_count": 43,
      "outputs": [
        {
          "output_type": "execute_result",
          "data": {
            "text/html": [
              "<iframe src=\"about:blank\" width=\"650\" height=\"450\"style=\"border:none !important;\" data-html=%3C%21DOCTYPE%20html%3E%0A%3Chead%3E%20%20%20%20%0A%20%20%20%20%3Cmeta%20http-equiv%3D%22content-type%22%20content%3D%22text/html%3B%20charset%3DUTF-8%22%20/%3E%0A%20%20%20%20%3Cscript%3EL_PREFER_CANVAS%3Dfalse%3B%20L_NO_TOUCH%3Dfalse%3B%20L_DISABLE_3D%3Dfalse%3B%3C/script%3E%0A%20%20%20%20%3Cscript%20src%3D%22https%3A//cdn.jsdelivr.net/npm/leaflet%401.4.0/dist/leaflet.js%22%3E%3C/script%3E%0A%20%20%20%20%3Cscript%20src%3D%22https%3A//code.jquery.com/jquery-1.12.4.min.js%22%3E%3C/script%3E%0A%20%20%20%20%3Cscript%20src%3D%22https%3A//maxcdn.bootstrapcdn.com/bootstrap/3.2.0/js/bootstrap.min.js%22%3E%3C/script%3E%0A%20%20%20%20%3Cscript%20src%3D%22https%3A//cdnjs.cloudflare.com/ajax/libs/Leaflet.awesome-markers/2.0.2/leaflet.awesome-markers.js%22%3E%3C/script%3E%0A%20%20%20%20%3Clink%20rel%3D%22stylesheet%22%20href%3D%22https%3A//cdn.jsdelivr.net/npm/leaflet%401.4.0/dist/leaflet.css%22/%3E%0A%20%20%20%20%3Clink%20rel%3D%22stylesheet%22%20href%3D%22https%3A//maxcdn.bootstrapcdn.com/bootstrap/3.2.0/css/bootstrap.min.css%22/%3E%0A%20%20%20%20%3Clink%20rel%3D%22stylesheet%22%20href%3D%22https%3A//maxcdn.bootstrapcdn.com/bootstrap/3.2.0/css/bootstrap-theme.min.css%22/%3E%0A%20%20%20%20%3Clink%20rel%3D%22stylesheet%22%20href%3D%22https%3A//maxcdn.bootstrapcdn.com/font-awesome/4.6.3/css/font-awesome.min.css%22/%3E%0A%20%20%20%20%3Clink%20rel%3D%22stylesheet%22%20href%3D%22https%3A//cdnjs.cloudflare.com/ajax/libs/Leaflet.awesome-markers/2.0.2/leaflet.awesome-markers.css%22/%3E%0A%20%20%20%20%3Clink%20rel%3D%22stylesheet%22%20href%3D%22https%3A//rawcdn.githack.com/python-visualization/folium/master/folium/templates/leaflet.awesome.rotate.css%22/%3E%0A%20%20%20%20%3Cstyle%3Ehtml%2C%20body%20%7Bwidth%3A%20100%25%3Bheight%3A%20100%25%3Bmargin%3A%200%3Bpadding%3A%200%3B%7D%3C/style%3E%0A%20%20%20%20%3Cstyle%3E%23map%20%7Bposition%3Aabsolute%3Btop%3A0%3Bbottom%3A0%3Bright%3A0%3Bleft%3A0%3B%7D%3C/style%3E%0A%20%20%20%20%0A%20%20%20%20%3Cmeta%20name%3D%22viewport%22%20content%3D%22width%3Ddevice-width%2C%0A%20%20%20%20%20%20%20%20initial-scale%3D1.0%2C%20maximum-scale%3D1.0%2C%20user-scalable%3Dno%22%20/%3E%0A%20%20%20%20%3Cstyle%3E%23map_5e1852683d8a46fa9c65e2716471684b%20%7B%0A%20%20%20%20%20%20%20%20position%3A%20relative%3B%0A%20%20%20%20%20%20%20%20width%3A%20650.0px%3B%0A%20%20%20%20%20%20%20%20height%3A%20450.0px%3B%0A%20%20%20%20%20%20%20%20left%3A%200.0%25%3B%0A%20%20%20%20%20%20%20%20top%3A%200.0%25%3B%0A%20%20%20%20%20%20%20%20%7D%0A%20%20%20%20%3C/style%3E%0A%3C/head%3E%0A%3Cbody%3E%20%20%20%20%0A%20%20%20%20%0A%20%20%20%20%3Cdiv%20class%3D%22folium-map%22%20id%3D%22map_5e1852683d8a46fa9c65e2716471684b%22%20%3E%3C/div%3E%0A%3C/body%3E%0A%3Cscript%3E%20%20%20%20%0A%20%20%20%20%0A%20%20%20%20%0A%20%20%20%20%20%20%20%20var%20bounds%20%3D%20null%3B%0A%20%20%20%20%0A%0A%20%20%20%20var%20map_5e1852683d8a46fa9c65e2716471684b%20%3D%20L.map%28%0A%20%20%20%20%20%20%20%20%27map_5e1852683d8a46fa9c65e2716471684b%27%2C%20%7B%0A%20%20%20%20%20%20%20%20center%3A%20%5B36.1672559%2C%20-115.148516%5D%2C%0A%20%20%20%20%20%20%20%20zoom%3A%2011%2C%0A%20%20%20%20%20%20%20%20maxBounds%3A%20bounds%2C%0A%20%20%20%20%20%20%20%20layers%3A%20%5B%5D%2C%0A%20%20%20%20%20%20%20%20worldCopyJump%3A%20false%2C%0A%20%20%20%20%20%20%20%20crs%3A%20L.CRS.EPSG3857%2C%0A%20%20%20%20%20%20%20%20zoomControl%3A%20true%2C%0A%20%20%20%20%20%20%20%20%7D%29%3B%0A%0A%0A%20%20%20%20%0A%20%20%20%20var%20tile_layer_0d37042a93944d12b67d0f06577324a6%20%3D%20L.tileLayer%28%0A%20%20%20%20%20%20%20%20%27https%3A//%7Bs%7D.tile.openstreetmap.org/%7Bz%7D/%7Bx%7D/%7By%7D.png%27%2C%0A%20%20%20%20%20%20%20%20%7B%0A%20%20%20%20%20%20%20%20%22attribution%22%3A%20null%2C%0A%20%20%20%20%20%20%20%20%22detectRetina%22%3A%20false%2C%0A%20%20%20%20%20%20%20%20%22maxNativeZoom%22%3A%2012%2C%0A%20%20%20%20%20%20%20%20%22maxZoom%22%3A%2012%2C%0A%20%20%20%20%20%20%20%20%22minZoom%22%3A%2010%2C%0A%20%20%20%20%20%20%20%20%22noWrap%22%3A%20false%2C%0A%20%20%20%20%20%20%20%20%22opacity%22%3A%201%2C%0A%20%20%20%20%20%20%20%20%22subdomains%22%3A%20%22abc%22%2C%0A%20%20%20%20%20%20%20%20%22tms%22%3A%20false%0A%7D%29.addTo%28map_5e1852683d8a46fa9c65e2716471684b%29%3B%0A%20%20%20%20var%20tile_layer_6b4699e30a0449169ad3c16fb5b0b2a9%20%3D%20L.tileLayer%28%0A%20%20%20%20%20%20%20%20%27https%3A//stamen-tiles-%7Bs%7D.a.ssl.fastly.net/terrain/%7Bz%7D/%7Bx%7D/%7By%7D.jpg%27%2C%0A%20%20%20%20%20%20%20%20%7B%0A%20%20%20%20%20%20%20%20%22attribution%22%3A%20null%2C%0A%20%20%20%20%20%20%20%20%22detectRetina%22%3A%20false%2C%0A%20%20%20%20%20%20%20%20%22maxNativeZoom%22%3A%2018%2C%0A%20%20%20%20%20%20%20%20%22maxZoom%22%3A%2018%2C%0A%20%20%20%20%20%20%20%20%22minZoom%22%3A%200%2C%0A%20%20%20%20%20%20%20%20%22noWrap%22%3A%20false%2C%0A%20%20%20%20%20%20%20%20%22opacity%22%3A%201%2C%0A%20%20%20%20%20%20%20%20%22subdomains%22%3A%20%22abc%22%2C%0A%20%20%20%20%20%20%20%20%22tms%22%3A%20false%0A%7D%29.addTo%28map_5e1852683d8a46fa9c65e2716471684b%29%3B%0A%20%20%20%20var%20tile_layer_61fe2bc39c8a488aa079551b7104e8b9%20%3D%20L.tileLayer%28%0A%20%20%20%20%20%20%20%20%27https%3A//stamen-tiles-%7Bs%7D.a.ssl.fastly.net/toner/%7Bz%7D/%7Bx%7D/%7By%7D.png%27%2C%0A%20%20%20%20%20%20%20%20%7B%0A%20%20%20%20%20%20%20%20%22attribution%22%3A%20null%2C%0A%20%20%20%20%20%20%20%20%22detectRetina%22%3A%20false%2C%0A%20%20%20%20%20%20%20%20%22maxNativeZoom%22%3A%2018%2C%0A%20%20%20%20%20%20%20%20%22maxZoom%22%3A%2018%2C%0A%20%20%20%20%20%20%20%20%22minZoom%22%3A%200%2C%0A%20%20%20%20%20%20%20%20%22noWrap%22%3A%20false%2C%0A%20%20%20%20%20%20%20%20%22opacity%22%3A%201%2C%0A%20%20%20%20%20%20%20%20%22subdomains%22%3A%20%22abc%22%2C%0A%20%20%20%20%20%20%20%20%22tms%22%3A%20false%0A%7D%29.addTo%28map_5e1852683d8a46fa9c65e2716471684b%29%3B%0A%20%20%20%20var%20tile_layer_6e9cd2b5fdab41fe95f772f394dd1b49%20%3D%20L.tileLayer%28%0A%20%20%20%20%20%20%20%20%27https%3A//stamen-tiles-%7Bs%7D.a.ssl.fastly.net/watercolor/%7Bz%7D/%7Bx%7D/%7By%7D.jpg%27%2C%0A%20%20%20%20%20%20%20%20%7B%0A%20%20%20%20%20%20%20%20%22attribution%22%3A%20null%2C%0A%20%20%20%20%20%20%20%20%22detectRetina%22%3A%20false%2C%0A%20%20%20%20%20%20%20%20%22maxNativeZoom%22%3A%2018%2C%0A%20%20%20%20%20%20%20%20%22maxZoom%22%3A%2018%2C%0A%20%20%20%20%20%20%20%20%22minZoom%22%3A%200%2C%0A%20%20%20%20%20%20%20%20%22noWrap%22%3A%20false%2C%0A%20%20%20%20%20%20%20%20%22opacity%22%3A%201%2C%0A%20%20%20%20%20%20%20%20%22subdomains%22%3A%20%22abc%22%2C%0A%20%20%20%20%20%20%20%20%22tms%22%3A%20false%0A%7D%29.addTo%28map_5e1852683d8a46fa9c65e2716471684b%29%3B%0A%20%20%20%20var%20tile_layer_08a68c9bf789432b91f7eb25390ee2e4%20%3D%20L.tileLayer%28%0A%20%20%20%20%20%20%20%20%27https%3A//cartodb-basemaps-%7Bs%7D.global.ssl.fastly.net/light_all/%7Bz%7D/%7Bx%7D/%7By%7D.png%27%2C%0A%20%20%20%20%20%20%20%20%7B%0A%20%20%20%20%20%20%20%20%22attribution%22%3A%20null%2C%0A%20%20%20%20%20%20%20%20%22detectRetina%22%3A%20false%2C%0A%20%20%20%20%20%20%20%20%22maxNativeZoom%22%3A%2018%2C%0A%20%20%20%20%20%20%20%20%22maxZoom%22%3A%2018%2C%0A%20%20%20%20%20%20%20%20%22minZoom%22%3A%200%2C%0A%20%20%20%20%20%20%20%20%22noWrap%22%3A%20false%2C%0A%20%20%20%20%20%20%20%20%22opacity%22%3A%201%2C%0A%20%20%20%20%20%20%20%20%22subdomains%22%3A%20%22abc%22%2C%0A%20%20%20%20%20%20%20%20%22tms%22%3A%20false%0A%7D%29.addTo%28map_5e1852683d8a46fa9c65e2716471684b%29%3B%0A%20%20%20%20var%20tile_layer_c09aa393d30441c1a78009a0e88fc87c%20%3D%20L.tileLayer%28%0A%20%20%20%20%20%20%20%20%27https%3A//cartodb-basemaps-%7Bs%7D.global.ssl.fastly.net/dark_all/%7Bz%7D/%7Bx%7D/%7By%7D.png%27%2C%0A%20%20%20%20%20%20%20%20%7B%0A%20%20%20%20%20%20%20%20%22attribution%22%3A%20null%2C%0A%20%20%20%20%20%20%20%20%22detectRetina%22%3A%20false%2C%0A%20%20%20%20%20%20%20%20%22maxNativeZoom%22%3A%2018%2C%0A%20%20%20%20%20%20%20%20%22maxZoom%22%3A%2018%2C%0A%20%20%20%20%20%20%20%20%22minZoom%22%3A%200%2C%0A%20%20%20%20%20%20%20%20%22noWrap%22%3A%20false%2C%0A%20%20%20%20%20%20%20%20%22opacity%22%3A%201%2C%0A%20%20%20%20%20%20%20%20%22subdomains%22%3A%20%22abc%22%2C%0A%20%20%20%20%20%20%20%20%22tms%22%3A%20false%0A%7D%29.addTo%28map_5e1852683d8a46fa9c65e2716471684b%29%3B%0A%20%20%20%20%0A%20%20%20%20%20%20%20%20%20%20%20%20var%20layer_control_74a7f1f82eb845d1912384439cf3edcc%20%3D%20%7B%0A%20%20%20%20%20%20%20%20%20%20%20%20%20%20%20%20base_layers%20%3A%20%7B%20%22openstreetmap%22%20%3A%20tile_layer_0d37042a93944d12b67d0f06577324a6%2C%22stamenterrain%22%20%3A%20tile_layer_6b4699e30a0449169ad3c16fb5b0b2a9%2C%22stamentoner%22%20%3A%20tile_layer_61fe2bc39c8a488aa079551b7104e8b9%2C%22stamenwatercolor%22%20%3A%20tile_layer_6e9cd2b5fdab41fe95f772f394dd1b49%2C%22cartodbpositron%22%20%3A%20tile_layer_08a68c9bf789432b91f7eb25390ee2e4%2C%22cartodbdark_matter%22%20%3A%20tile_layer_c09aa393d30441c1a78009a0e88fc87c%2C%20%7D%2C%0A%20%20%20%20%20%20%20%20%20%20%20%20%20%20%20%20overlays%20%3A%20%7B%20%20%7D%0A%20%20%20%20%20%20%20%20%20%20%20%20%20%20%20%20%7D%3B%0A%20%20%20%20%20%20%20%20%20%20%20%20L.control.layers%28%0A%20%20%20%20%20%20%20%20%20%20%20%20%20%20%20%20layer_control_74a7f1f82eb845d1912384439cf3edcc.base_layers%2C%0A%20%20%20%20%20%20%20%20%20%20%20%20%20%20%20%20layer_control_74a7f1f82eb845d1912384439cf3edcc.overlays%2C%0A%20%20%20%20%20%20%20%20%20%20%20%20%20%20%20%20%7Bposition%3A%20%27topright%27%2C%0A%20%20%20%20%20%20%20%20%20%20%20%20%20%20%20%20%20collapsed%3A%20true%2C%0A%20%20%20%20%20%20%20%20%20%20%20%20%20%20%20%20%20autoZIndex%3A%20true%0A%20%20%20%20%20%20%20%20%20%20%20%20%20%20%20%20%7D%29.addTo%28map_5e1852683d8a46fa9c65e2716471684b%29%3B%0A%20%20%20%20%20%20%20%20%20%20%20%20%0A%20%20%20%20%20%20%20%20%20%20%20%20%20%20%20%20tile_layer_6b4699e30a0449169ad3c16fb5b0b2a9.remove%28%29%3B%0A%20%20%20%20%20%20%20%20%20%20%20%20%20%20%20%20tile_layer_61fe2bc39c8a488aa079551b7104e8b9.remove%28%29%3B%0A%20%20%20%20%20%20%20%20%20%20%20%20%20%20%20%20tile_layer_6e9cd2b5fdab41fe95f772f394dd1b49.remove%28%29%3B%0A%20%20%20%20%20%20%20%20%20%20%20%20%20%20%20%20tile_layer_08a68c9bf789432b91f7eb25390ee2e4.remove%28%29%3B%0A%20%20%20%20%20%20%20%20%20%20%20%20%20%20%20%20tile_layer_c09aa393d30441c1a78009a0e88fc87c.remove%28%29%3B%0A%20%20%20%20%20%20%20%20%0A%3C/script%3E onload=\"this.contentDocument.open();this.contentDocument.write(    decodeURIComponent(this.getAttribute('data-html')));this.contentDocument.close();\" \"allowfullscreen\" \"webkitallowfullscreen\" \"mozallowfullscreen\"></iframe>"
            ],
            "text/plain": [
              "<branca.element.Figure at 0x7f0e63742d50>"
            ]
          },
          "metadata": {
            "tags": []
          },
          "execution_count": 43
        }
      ]
    },
    {
      "cell_type": "code",
      "metadata": {
        "id": "plEFXqtMCsE6"
      },
      "source": [
        "data.dropna(inplace= True)"
      ],
      "execution_count": 70,
      "outputs": []
    },
    {
      "cell_type": "code",
      "metadata": {
        "id": "lUmT1OrM00G5"
      },
      "source": [
        "x, y = \"Latitude\", \"Longitude\"\n",
        "color = \"Cost\"\n",
        "size = \"Staff\"\n",
        "popup = \"Street Address\"\n",
        "data = df.copy()\n",
        "\n",
        "## create color column\n",
        "lst_colors=[\"red\",\"green\",\"orange\"]\n",
        "lst_elements = sorted(list(df[color].unique()))\n",
        "data[\"color\"] = data[color].apply(lambda x: \n",
        "                lst_colors[lst_elements.index(x)])\n",
        "\n",
        "# lst_elements.index(\"medium\") = 2 => \"orange\"\n",
        "# lst_elements.index(\"high\") = 0 => \"red\"\n",
        "# lst_elements.index(\"low\") = 1 => \"green\"\n",
        "\n",
        "## create size column (scaled)\n",
        "#print(data['size'].min(),data['size'].max())\n",
        "scaler = preprocessing.MinMaxScaler(feature_range=(3,15))\n",
        "data[\"size\"] = scaler.fit_transform(\n",
        "               data[size].values.reshape(-1,1)).reshape(-1)\n",
        "\n",
        "# let's create the map\n",
        "map = folium.Map(location=location,\n",
        "                  width=650,\n",
        "                  height=450,\n",
        "                  zoom_start=11,\n",
        "                  min_zoom=10,\n",
        "                  max_zoom=12)\n",
        "## add points\n",
        "data.dropna(inplace= True)\n",
        "data.apply(lambda row: folium.CircleMarker(\n",
        "           location=[row[x],row[y]], popup=row[popup],\n",
        "           color=row[\"color\"], fill=True,\n",
        "           radius=row[\"size\"]).add_to(map), axis=1)\n",
        "\n",
        "## add html legend\n",
        "legend_html = \"\"\"<div style=\"position:fixed; bottom:10px; left:10px; border:2px solid black; z-index:9999; font-size:14px;\">&nbsp;<b>\"\"\"+color+\"\"\":</b><br>\"\"\"\n",
        "for i in lst_elements:\n",
        "     legend_html = legend_html+\"\"\"&nbsp;<i class=\"fa fa-circle \n",
        "     fa-1x\" style=\"color:\"\"\"+lst_colors[lst_elements.index(i)]+\"\"\"\">\n",
        "     </i>&nbsp;\"\"\"+str(i)+\"\"\"<br>\"\"\"\n",
        "legend_html = legend_html+\"\"\"</div>\"\"\"\n",
        "map.get_root().html.add_child(folium.Element(legend_html))\n",
        "\n",
        "\n",
        "fig_=Figure(width=650,height=450)\n",
        "fig_.add_child(map)"
      ],
      "execution_count": 80,
      "outputs": []
    },
    {
      "cell_type": "code",
      "metadata": {
        "id": "1Hj-EK7PDSzt"
      },
      "source": [
        "x, y = \"Latitude\", \"Longitude\"\n",
        "color = \"Cost\"\n",
        "size = \"Staff\"\n",
        "popup = \"Street Address\"\n",
        "data = df.copy()\n",
        "data.dropna(inplace= True)\n",
        "\n",
        "## create color column\n",
        "lst_colors=[\"red\",\"green\",\"orange\"]\n",
        "lst_elements = sorted(list(df[color].unique()))\n",
        "data[\"color\"] = data[color].apply(lambda x: \n",
        "                lst_colors[lst_elements.index(x)])\n",
        "## create size column (scaled)\n",
        "scaler = preprocessing.MinMaxScaler(feature_range=(3,15))\n",
        "data[\"size\"] = scaler.fit_transform(\n",
        "               data[size].values.reshape(-1,1)).reshape(-1)\n",
        "\n",
        "## initialize the map with the starting location\n",
        "map_ = folium.Map(location=location, tiles=\"cartodbpositron\",\n",
        "                  zoom_start=11)\n",
        "## add points\n",
        "data.dropna(inplace= True)\n",
        "data.apply(lambda row: folium.CircleMarker(\n",
        "           location=[row[x],row[y]], popup=row[popup],\n",
        "           color=row[\"color\"], fill=True,\n",
        "           radius=row[\"size\"]).add_to(map_), axis=1)\n",
        "## add html legend\n",
        "legend_html = \"\"\"<div style=\"position:fixed; bottom:10px; left:10px; border:2px solid black; z-index:9999; font-size:14px;\">&nbsp;<b>\"\"\"+color+\"\"\":</b><br>\"\"\"\n",
        "for i in lst_elements:\n",
        "     legend_html = legend_html+\"\"\"&nbsp;<i class=\"fa fa-circle \n",
        "     fa-1x\" style=\"color:\"\"\"+lst_colors[lst_elements.index(i)]+\"\"\"\">\n",
        "     </i>&nbsp;\"\"\"+str(i)+\"\"\"<br>\"\"\"\n",
        "legend_html = legend_html+\"\"\"</div>\"\"\"\n",
        "map_.get_root().html.add_child(folium.Element(legend_html))\n",
        "\n",
        "## plot the map\n",
        "map_"
      ],
      "execution_count": 81,
      "outputs": []
    },
    {
      "cell_type": "code",
      "metadata": {
        "id": "xLDACFs6ETHa"
      },
      "source": [
        ""
      ],
      "execution_count": null,
      "outputs": []
    }
  ]
}