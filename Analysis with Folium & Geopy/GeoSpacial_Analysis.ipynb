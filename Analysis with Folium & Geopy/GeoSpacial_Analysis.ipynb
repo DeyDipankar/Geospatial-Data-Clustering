{
  "nbformat": 4,
  "nbformat_minor": 0,
  "metadata": {
    "colab": {
      "name": "GeoSpacial Analysis.ipynb",
      "provenance": [],
      "collapsed_sections": []
    },
    "kernelspec": {
      "name": "python3",
      "display_name": "Python 3"
    },
    "language_info": {
      "name": "python"
    },
    "accelerator": "TPU"
  },
  "cells": [
    {
      "cell_type": "code",
      "metadata": {
        "id": "hZnMH1pDbseI"
      },
      "source": [
        "import pandas as pd\n",
        "import numpy as np\n",
        "import seaborn as sns\n",
        "import matplotlib.pyplot as plt"
      ],
      "execution_count": 83,
      "outputs": []
    },
    {
      "cell_type": "code",
      "metadata": {
        "colab": {
          "base_uri": "https://localhost:8080/",
          "height": 452
        },
        "id": "M2BIscU7cGL3",
        "outputId": "c7c30fd4-f58a-4931-80f4-c93a08b27f0b"
      },
      "source": [
        "df = pd.read_csv('cleaned data.csv')\n",
        "df.head()"
      ],
      "execution_count": 5,
      "outputs": [
        {
          "output_type": "execute_result",
          "data": {
            "text/html": [
              "<div>\n",
              "<style scoped>\n",
              "    .dataframe tbody tr th:only-of-type {\n",
              "        vertical-align: middle;\n",
              "    }\n",
              "\n",
              "    .dataframe tbody tr th {\n",
              "        vertical-align: top;\n",
              "    }\n",
              "\n",
              "    .dataframe thead th {\n",
              "        text-align: right;\n",
              "    }\n",
              "</style>\n",
              "<table border=\"1\" class=\"dataframe\">\n",
              "  <thead>\n",
              "    <tr style=\"text-align: right;\">\n",
              "      <th></th>\n",
              "      <th>Brand</th>\n",
              "      <th>Store Number</th>\n",
              "      <th>Store Name</th>\n",
              "      <th>Ownership Type</th>\n",
              "      <th>Street Address</th>\n",
              "      <th>City</th>\n",
              "      <th>State/Province</th>\n",
              "      <th>Country</th>\n",
              "      <th>Postcode</th>\n",
              "      <th>Phone Number</th>\n",
              "      <th>Timezone</th>\n",
              "      <th>Longitude</th>\n",
              "      <th>Latitude</th>\n",
              "    </tr>\n",
              "  </thead>\n",
              "  <tbody>\n",
              "    <tr>\n",
              "      <th>0</th>\n",
              "      <td>Starbucks</td>\n",
              "      <td>47370-257954</td>\n",
              "      <td>Meritxell, 96</td>\n",
              "      <td>Licensed</td>\n",
              "      <td>Av. Meritxell, 96</td>\n",
              "      <td>Andorra la Vella</td>\n",
              "      <td>7</td>\n",
              "      <td>AD</td>\n",
              "      <td>AD500</td>\n",
              "      <td>376818720</td>\n",
              "      <td>GMT+1:00 Europe/Andorra</td>\n",
              "      <td>1.53</td>\n",
              "      <td>42.51</td>\n",
              "    </tr>\n",
              "    <tr>\n",
              "      <th>1</th>\n",
              "      <td>Starbucks</td>\n",
              "      <td>24932-239347</td>\n",
              "      <td>Al Mamoura</td>\n",
              "      <td>Licensed</td>\n",
              "      <td>Al Mamoura, Al Muroor District</td>\n",
              "      <td>Abu Dhabi</td>\n",
              "      <td>AZ</td>\n",
              "      <td>AE</td>\n",
              "      <td>51133</td>\n",
              "      <td>Not avaiable</td>\n",
              "      <td>GMT+04:00 Asia/Dubai</td>\n",
              "      <td>54.39</td>\n",
              "      <td>24.46</td>\n",
              "    </tr>\n",
              "    <tr>\n",
              "      <th>2</th>\n",
              "      <td>Starbucks</td>\n",
              "      <td>24931-239348</td>\n",
              "      <td>Raha Garden</td>\n",
              "      <td>Licensed</td>\n",
              "      <td>Raha Gardens Plaza</td>\n",
              "      <td>Abu Dhabi</td>\n",
              "      <td>AZ</td>\n",
              "      <td>AE</td>\n",
              "      <td>51133</td>\n",
              "      <td>Not avaiable</td>\n",
              "      <td>GMT+04:00 Asia/Dubai</td>\n",
              "      <td>54.37</td>\n",
              "      <td>24.47</td>\n",
              "    </tr>\n",
              "    <tr>\n",
              "      <th>3</th>\n",
              "      <td>Starbucks</td>\n",
              "      <td>27072-246650</td>\n",
              "      <td>Reel Cinema</td>\n",
              "      <td>Licensed</td>\n",
              "      <td>Reel Cinema, Dubai Mall, Second Floor</td>\n",
              "      <td>Dubai</td>\n",
              "      <td>DU</td>\n",
              "      <td>AE</td>\n",
              "      <td>113444</td>\n",
              "      <td>Not avaiable</td>\n",
              "      <td>GMT+04:00 Asia/Muscat</td>\n",
              "      <td>55.60</td>\n",
              "      <td>24.78</td>\n",
              "    </tr>\n",
              "    <tr>\n",
              "      <th>4</th>\n",
              "      <td>Starbucks</td>\n",
              "      <td>25406-240945</td>\n",
              "      <td>Bin Sougat</td>\n",
              "      <td>Licensed</td>\n",
              "      <td>Al Khawaneej Road, Al Rashidiya</td>\n",
              "      <td>Dubai</td>\n",
              "      <td>DU</td>\n",
              "      <td>AE</td>\n",
              "      <td>10170</td>\n",
              "      <td>Not avaiable</td>\n",
              "      <td>GMT+04:00 Asia/Dubai</td>\n",
              "      <td>55.40</td>\n",
              "      <td>25.23</td>\n",
              "    </tr>\n",
              "  </tbody>\n",
              "</table>\n",
              "</div>"
            ],
            "text/plain": [
              "       Brand  Store Number  ... Longitude Latitude\n",
              "0  Starbucks  47370-257954  ...      1.53    42.51\n",
              "1  Starbucks  24932-239347  ...     54.39    24.46\n",
              "2  Starbucks  24931-239348  ...     54.37    24.47\n",
              "3  Starbucks  27072-246650  ...     55.60    24.78\n",
              "4  Starbucks  25406-240945  ...     55.40    25.23\n",
              "\n",
              "[5 rows x 13 columns]"
            ]
          },
          "metadata": {
            "tags": []
          },
          "execution_count": 5
        }
      ]
    },
    {
      "cell_type": "code",
      "metadata": {
        "colab": {
          "base_uri": "https://localhost:8080/"
        },
        "id": "igB60zrTcorz",
        "outputId": "031d709a-9d24-4f33-8395-57599cba2082"
      },
      "source": [
        "df.shape"
      ],
      "execution_count": 6,
      "outputs": [
        {
          "output_type": "execute_result",
          "data": {
            "text/plain": [
              "(22622, 13)"
            ]
          },
          "metadata": {
            "tags": []
          },
          "execution_count": 6
        }
      ]
    },
    {
      "cell_type": "markdown",
      "metadata": {
        "id": "vAo09kDijv7r"
      },
      "source": [
        "Let's create some hypothetical sceanrio, we'd be adding these fatures to our source data(adding extra features won't change the previous features) - \n",
        "\n",
        "Potential: total capacity in terms of staff (e.g. 10 means that the store can have up to 10 employees)\n",
        "\n",
        "Staff: current staff level (e.g. 7 means that the store is currently operating with 7 employees)\n",
        "\n",
        "Capacity: current left capacity (e.g. 10–7=3, the store can still host 3 employees)\n",
        "Cost: annual cost for the company to keep the store operating (“low”, “medium”, “high”)"
      ]
    },
    {
      "cell_type": "code",
      "metadata": {
        "colab": {
          "base_uri": "https://localhost:8080/",
          "height": 488
        },
        "id": "EgmwNMSHin1g",
        "outputId": "019c7414-a459-4140-de29-c73b3a2de763"
      },
      "source": [
        "df[\"Potential\"] = np.random.randint(low=3, high=10+1, size=len(df))\n",
        "df[\"Staff\"] = df[\"Potential\"].apply(lambda x: int(np.random.rand()*x)+1)\n",
        "df[\"Capacity\"] = df[\"Potential\"] - df[\"Staff\"]\n",
        "df[\"Cost\"] = np.random.choice([\"high\",\"medium\",\"low\"], size=len(df), p=[0.4,0.5,0.1])\n",
        "df.head()"
      ],
      "execution_count": 78,
      "outputs": [
        {
          "output_type": "execute_result",
          "data": {
            "text/html": [
              "<div>\n",
              "<style scoped>\n",
              "    .dataframe tbody tr th:only-of-type {\n",
              "        vertical-align: middle;\n",
              "    }\n",
              "\n",
              "    .dataframe tbody tr th {\n",
              "        vertical-align: top;\n",
              "    }\n",
              "\n",
              "    .dataframe thead th {\n",
              "        text-align: right;\n",
              "    }\n",
              "</style>\n",
              "<table border=\"1\" class=\"dataframe\">\n",
              "  <thead>\n",
              "    <tr style=\"text-align: right;\">\n",
              "      <th></th>\n",
              "      <th>Brand</th>\n",
              "      <th>Store Number</th>\n",
              "      <th>Store Name</th>\n",
              "      <th>Ownership Type</th>\n",
              "      <th>Street Address</th>\n",
              "      <th>City</th>\n",
              "      <th>State/Province</th>\n",
              "      <th>Country</th>\n",
              "      <th>Postcode</th>\n",
              "      <th>Phone Number</th>\n",
              "      <th>Timezone</th>\n",
              "      <th>Longitude</th>\n",
              "      <th>Latitude</th>\n",
              "      <th>Potential</th>\n",
              "      <th>Staff</th>\n",
              "      <th>Capacity</th>\n",
              "      <th>Cost</th>\n",
              "    </tr>\n",
              "  </thead>\n",
              "  <tbody>\n",
              "    <tr>\n",
              "      <th>0</th>\n",
              "      <td>Starbucks</td>\n",
              "      <td>47370-257954</td>\n",
              "      <td>Meritxell, 96</td>\n",
              "      <td>Licensed</td>\n",
              "      <td>Av. Meritxell, 96</td>\n",
              "      <td>Andorra la Vella</td>\n",
              "      <td>7</td>\n",
              "      <td>AD</td>\n",
              "      <td>AD500</td>\n",
              "      <td>376818720</td>\n",
              "      <td>GMT+1:00 Europe/Andorra</td>\n",
              "      <td>1.53</td>\n",
              "      <td>42.51</td>\n",
              "      <td>6</td>\n",
              "      <td>2</td>\n",
              "      <td>4</td>\n",
              "      <td>high</td>\n",
              "    </tr>\n",
              "    <tr>\n",
              "      <th>1</th>\n",
              "      <td>Starbucks</td>\n",
              "      <td>24932-239347</td>\n",
              "      <td>Al Mamoura</td>\n",
              "      <td>Licensed</td>\n",
              "      <td>Al Mamoura, Al Muroor District</td>\n",
              "      <td>Abu Dhabi</td>\n",
              "      <td>AZ</td>\n",
              "      <td>AE</td>\n",
              "      <td>51133</td>\n",
              "      <td>Not avaiable</td>\n",
              "      <td>GMT+04:00 Asia/Dubai</td>\n",
              "      <td>54.39</td>\n",
              "      <td>24.46</td>\n",
              "      <td>10</td>\n",
              "      <td>7</td>\n",
              "      <td>3</td>\n",
              "      <td>low</td>\n",
              "    </tr>\n",
              "    <tr>\n",
              "      <th>2</th>\n",
              "      <td>Starbucks</td>\n",
              "      <td>24931-239348</td>\n",
              "      <td>Raha Garden</td>\n",
              "      <td>Licensed</td>\n",
              "      <td>Raha Gardens Plaza</td>\n",
              "      <td>Abu Dhabi</td>\n",
              "      <td>AZ</td>\n",
              "      <td>AE</td>\n",
              "      <td>51133</td>\n",
              "      <td>Not avaiable</td>\n",
              "      <td>GMT+04:00 Asia/Dubai</td>\n",
              "      <td>54.37</td>\n",
              "      <td>24.47</td>\n",
              "      <td>6</td>\n",
              "      <td>6</td>\n",
              "      <td>0</td>\n",
              "      <td>low</td>\n",
              "    </tr>\n",
              "    <tr>\n",
              "      <th>3</th>\n",
              "      <td>Starbucks</td>\n",
              "      <td>27072-246650</td>\n",
              "      <td>Reel Cinema</td>\n",
              "      <td>Licensed</td>\n",
              "      <td>Reel Cinema, Dubai Mall, Second Floor</td>\n",
              "      <td>Dubai</td>\n",
              "      <td>DU</td>\n",
              "      <td>AE</td>\n",
              "      <td>113444</td>\n",
              "      <td>Not avaiable</td>\n",
              "      <td>GMT+04:00 Asia/Muscat</td>\n",
              "      <td>55.60</td>\n",
              "      <td>24.78</td>\n",
              "      <td>6</td>\n",
              "      <td>4</td>\n",
              "      <td>2</td>\n",
              "      <td>high</td>\n",
              "    </tr>\n",
              "    <tr>\n",
              "      <th>4</th>\n",
              "      <td>Starbucks</td>\n",
              "      <td>25406-240945</td>\n",
              "      <td>Bin Sougat</td>\n",
              "      <td>Licensed</td>\n",
              "      <td>Al Khawaneej Road, Al Rashidiya</td>\n",
              "      <td>Dubai</td>\n",
              "      <td>DU</td>\n",
              "      <td>AE</td>\n",
              "      <td>10170</td>\n",
              "      <td>Not avaiable</td>\n",
              "      <td>GMT+04:00 Asia/Dubai</td>\n",
              "      <td>55.40</td>\n",
              "      <td>25.23</td>\n",
              "      <td>7</td>\n",
              "      <td>5</td>\n",
              "      <td>2</td>\n",
              "      <td>medium</td>\n",
              "    </tr>\n",
              "  </tbody>\n",
              "</table>\n",
              "</div>"
            ],
            "text/plain": [
              "       Brand  Store Number     Store Name  ... Staff Capacity    Cost\n",
              "0  Starbucks  47370-257954  Meritxell, 96  ...     2        4    high\n",
              "1  Starbucks  24932-239347     Al Mamoura  ...     7        3     low\n",
              "2  Starbucks  24931-239348    Raha Garden  ...     6        0     low\n",
              "3  Starbucks  27072-246650    Reel Cinema  ...     4        2    high\n",
              "4  Starbucks  25406-240945     Bin Sougat  ...     5        2  medium\n",
              "\n",
              "[5 rows x 17 columns]"
            ]
          },
          "metadata": {
            "tags": []
          },
          "execution_count": 78
        }
      ]
    },
    {
      "cell_type": "code",
      "metadata": {
        "colab": {
          "base_uri": "https://localhost:8080/",
          "height": 294
        },
        "id": "2C733gYikYMI",
        "outputId": "631640c6-9740-4dc8-e508-a47ccc49b91b"
      },
      "source": [
        "df.describe()"
      ],
      "execution_count": 79,
      "outputs": [
        {
          "output_type": "execute_result",
          "data": {
            "text/html": [
              "<div>\n",
              "<style scoped>\n",
              "    .dataframe tbody tr th:only-of-type {\n",
              "        vertical-align: middle;\n",
              "    }\n",
              "\n",
              "    .dataframe tbody tr th {\n",
              "        vertical-align: top;\n",
              "    }\n",
              "\n",
              "    .dataframe thead th {\n",
              "        text-align: right;\n",
              "    }\n",
              "</style>\n",
              "<table border=\"1\" class=\"dataframe\">\n",
              "  <thead>\n",
              "    <tr style=\"text-align: right;\">\n",
              "      <th></th>\n",
              "      <th>Longitude</th>\n",
              "      <th>Latitude</th>\n",
              "      <th>Potential</th>\n",
              "      <th>Staff</th>\n",
              "      <th>Capacity</th>\n",
              "    </tr>\n",
              "  </thead>\n",
              "  <tbody>\n",
              "    <tr>\n",
              "      <th>count</th>\n",
              "      <td>22621.000000</td>\n",
              "      <td>22621.000000</td>\n",
              "      <td>22622.000000</td>\n",
              "      <td>22622.000000</td>\n",
              "      <td>22622.000000</td>\n",
              "    </tr>\n",
              "    <tr>\n",
              "      <th>mean</th>\n",
              "      <td>-37.107338</td>\n",
              "      <td>36.119728</td>\n",
              "      <td>6.486562</td>\n",
              "      <td>3.748740</td>\n",
              "      <td>2.737822</td>\n",
              "    </tr>\n",
              "    <tr>\n",
              "      <th>std</th>\n",
              "      <td>94.914676</td>\n",
              "      <td>11.728042</td>\n",
              "      <td>2.283123</td>\n",
              "      <td>2.281772</td>\n",
              "      <td>2.271502</td>\n",
              "    </tr>\n",
              "    <tr>\n",
              "      <th>min</th>\n",
              "      <td>-159.460000</td>\n",
              "      <td>-36.790000</td>\n",
              "      <td>3.000000</td>\n",
              "      <td>1.000000</td>\n",
              "      <td>0.000000</td>\n",
              "    </tr>\n",
              "    <tr>\n",
              "      <th>25%</th>\n",
              "      <td>-111.010000</td>\n",
              "      <td>32.970000</td>\n",
              "      <td>5.000000</td>\n",
              "      <td>2.000000</td>\n",
              "      <td>1.000000</td>\n",
              "    </tr>\n",
              "    <tr>\n",
              "      <th>50%</th>\n",
              "      <td>-81.680000</td>\n",
              "      <td>37.430000</td>\n",
              "      <td>6.000000</td>\n",
              "      <td>3.000000</td>\n",
              "      <td>2.000000</td>\n",
              "    </tr>\n",
              "    <tr>\n",
              "      <th>75%</th>\n",
              "      <td>29.020000</td>\n",
              "      <td>41.880000</td>\n",
              "      <td>8.000000</td>\n",
              "      <td>5.000000</td>\n",
              "      <td>4.000000</td>\n",
              "    </tr>\n",
              "    <tr>\n",
              "      <th>max</th>\n",
              "      <td>143.200000</td>\n",
              "      <td>64.850000</td>\n",
              "      <td>10.000000</td>\n",
              "      <td>10.000000</td>\n",
              "      <td>9.000000</td>\n",
              "    </tr>\n",
              "  </tbody>\n",
              "</table>\n",
              "</div>"
            ],
            "text/plain": [
              "          Longitude      Latitude     Potential         Staff      Capacity\n",
              "count  22621.000000  22621.000000  22622.000000  22622.000000  22622.000000\n",
              "mean     -37.107338     36.119728      6.486562      3.748740      2.737822\n",
              "std       94.914676     11.728042      2.283123      2.281772      2.271502\n",
              "min     -159.460000    -36.790000      3.000000      1.000000      0.000000\n",
              "25%     -111.010000     32.970000      5.000000      2.000000      1.000000\n",
              "50%      -81.680000     37.430000      6.000000      3.000000      2.000000\n",
              "75%       29.020000     41.880000      8.000000      5.000000      4.000000\n",
              "max      143.200000     64.850000     10.000000     10.000000      9.000000"
            ]
          },
          "metadata": {
            "tags": []
          },
          "execution_count": 79
        }
      ]
    },
    {
      "cell_type": "code",
      "metadata": {
        "colab": {
          "base_uri": "https://localhost:8080/",
          "height": 394
        },
        "id": "zXopOB-Qk6gX",
        "outputId": "80871abf-c68d-4dde-deb8-da0df5f0bea0"
      },
      "source": [
        "df[['Potential','Staff','Capacity']].plot(kind = 'box', figsize = (10,6))"
      ],
      "execution_count": 90,
      "outputs": [
        {
          "output_type": "execute_result",
          "data": {
            "text/plain": [
              "<matplotlib.axes._subplots.AxesSubplot at 0x7f3887db2750>"
            ]
          },
          "metadata": {
            "tags": []
          },
          "execution_count": 90
        },
        {
          "output_type": "display_data",
          "data": {
            "image/png": "[encoded data removed]",
            "text/plain": [
              "<Figure size 720x432 with 1 Axes>"
            ]
          },
          "metadata": {
            "tags": []
          }
        }
      ]
    },
    {
      "cell_type": "markdown",
      "metadata": {
        "id": "Kbq8MoI4muuA"
      },
      "source": [
        "## Data Analysis\n",
        "\n",
        "\n",
        "Let’s pretend we own a retail business and we have to close some stores. We would want to do that maximizing the profit (by minimizing the cost) and without laying off any staff."
      ]
    },
    {
      "cell_type": "code",
      "metadata": {
        "colab": {
          "base_uri": "https://localhost:8080/",
          "height": 296
        },
        "id": "ekjqoYxnlDZh",
        "outputId": "f38c3121-18e1-4b9f-928a-a638e79be28c"
      },
      "source": [
        "sns.set_theme(style=\"whitegrid\")\n",
        "ax = sns.barplot(y = df['Cost'].unique(),x = df['Cost'].value_counts().values/df.shape[0]*100,\n",
        "                    orient = 'h',\n",
        "                    palette=\"Blues_d\"\n",
        "            )\n",
        "totals = []\n",
        "for i in ax.patches:\n",
        "    totals.append(i.get_width())\n",
        "total = sum(totals)\n",
        "for i in ax.patches:\n",
        "     ax.text(i.get_width()+.3, i.get_y()+.20, \n",
        "     str(round((i.get_width()/total)*100, 2))+'%', \n",
        "     fontsize=10, color='black')\n",
        "ax.grid(axis=\"x\")\n",
        "plt.suptitle('Cost', fontsize=20)\n",
        "plt.show()"
      ],
      "execution_count": 87,
      "outputs": [
        {
          "output_type": "display_data",
          "data": {
            "image/png": "[encoded data removed]",
            "text/plain": [
              "<Figure size 432x288 with 1 Axes>"
            ]
          },
          "metadata": {
            "tags": []
          }
        }
      ]
    },
    {
      "cell_type": "markdown",
      "metadata": {
        "id": "hdolAreW4ShX"
      },
      "source": [
        "for i in ax.patches:\n",
        "  \n",
        "  print(i)\n",
        "\n",
        "\n",
        "Returns:\n",
        "\n",
        "Rectangle(xy=(0, -0.4), width=49.6066, height=0.8, angle=0)\n",
        "\n",
        "Rectangle(xy=(0, 0.6), width=40.3192, height=0.8, angle=0)\n",
        "\n",
        "Rectangle(xy=(0, 1.6), width=10.0743, height=0.8, angle=0)"
      ]
    },
    {
      "cell_type": "code",
      "metadata": {
        "colab": {
          "base_uri": "https://localhost:8080/",
          "height": 357
        },
        "id": "K3lhBEFl4I5O",
        "outputId": "907d28bd-0a70-4294-e700-cc12a43ca6cc"
      },
      "source": [
        "sns.countplot(df.Capacity)"
      ],
      "execution_count": 91,
      "outputs": [
        {
          "output_type": "stream",
          "text": [
            "/usr/local/lib/python3.7/dist-packages/seaborn/_decorators.py:43: FutureWarning: Pass the following variable as a keyword arg: x. From version 0.12, the only valid positional argument will be `data`, and passing other arguments without an explicit keyword will result in an error or misinterpretation.\n",
            "  FutureWarning\n"
          ],
          "name": "stderr"
        },
        {
          "output_type": "execute_result",
          "data": {
            "text/plain": [
              "<matplotlib.axes._subplots.AxesSubplot at 0x7f3889b6ecd0>"
            ]
          },
          "metadata": {
            "tags": []
          },
          "execution_count": 91
        },
        {
          "output_type": "display_data",
          "data": {
            "image/png": "[encoded data removed]",
            "text/plain": [
              "<Figure size 432x288 with 1 Axes>"
            ]
          },
          "metadata": {
            "tags": []
          }
        }
      ]
    },
    {
      "cell_type": "markdown",
      "metadata": {
        "id": "-vij9RMR7Ov7"
      },
      "source": [
        "From the above plot we see that many of the stores are not working at full-capacity. Here 0 indicates full capacity,i.e.no additional person is required\n",
        "\n",
        "Now we'll try to analyze these information with geopy.  I need to get the coordinates of the geographic area to start up the map. I shall do that with geopy"
      ]
    },
    {
      "cell_type": "code",
      "metadata": {
        "id": "UQfZqUp85v9q"
      },
      "source": [
        "## for geospatial\n",
        "import folium\n",
        "import geopy"
      ],
      "execution_count": 92,
      "outputs": []
    },
    {
      "cell_type": "code",
      "metadata": {
        "colab": {
          "base_uri": "https://localhost:8080/"
        },
        "id": "v756VWou8YNR",
        "outputId": "6c7909c4-3c89-44cd-e91f-ba42e184b1ab"
      },
      "source": [
        "city = \"Las Vegas\"\n",
        "## get location\n",
        "locator = geopy.geocoders.Nominatim(user_agent=\"MyCoder\")\n",
        "location = locator.geocode(city)\n",
        "print(location)\n",
        "## keep latitude and longitude only\n",
        "location = [location.latitude, location.longitude]\n",
        "print(\"[lat, long]:\", location)"
      ],
      "execution_count": 93,
      "outputs": [
        {
          "output_type": "stream",
          "text": [
            "Las Vegas, Clark County, Nevada, United States\n",
            "[lat, long]: [36.1672559, -115.148516]\n"
          ],
          "name": "stdout"
        }
      ]
    },
    {
      "cell_type": "markdown",
      "metadata": {
        "id": "8MpO-xW_9Oj7"
      },
      "source": [
        "I am going to create the map with folium, a really convenient package that allows us to plot interactive maps without needing to load a shapefile. Each store shall be identified by a point with size proportional to its current staff and color based on its cost. I’m also going to add a small piece of HTML code to the default map to display the legend."
      ]
    },
    {
      "cell_type": "code",
      "metadata": {
        "id": "zVGpZY4X-Any"
      },
      "source": [
        "x, y = \"Latitude\", \"Longitude\"\n",
        "color = \"Cost\"\n",
        "size = \"Staff\"\n",
        "popup = \"Street Address\"\n",
        "data = df.copy()"
      ],
      "execution_count": 94,
      "outputs": []
    },
    {
      "cell_type": "code",
      "metadata": {
        "id": "IRxalavj-Fyi"
      },
      "source": [
        "## create color column\n",
        "lst_colors=[\"red\",\"green\",\"orange\"]\n",
        "lst_elements = sorted(list(df[color].unique()))\n",
        "data[\"color\"] = data[color].apply(lambda x: \n",
        "                lst_colors[lst_elements.index(x)])"
      ],
      "execution_count": 95,
      "outputs": []
    },
    {
      "cell_type": "code",
      "metadata": {
        "id": "zIvUWLIM9Xe7"
      },
      "source": [
        "## create size column (scaled)\n",
        "scaler = preprocessing.MinMaxScaler(feature_range=(3,15))\n",
        "data[\"size\"] = scaler.fit_transform(\n",
        "               data[size].values.reshape(-1,1)).reshape(-1)\n",
        "\n",
        "## initialize the map with the starting location\n",
        "map_ = folium.Map(location=location, tiles=\"cartodbpositron\",\n",
        "                  zoom_start=11)\n",
        "## add points\n",
        "data.apply(lambda row: folium.CircleMarker(\n",
        "           location=[row[x],row[y]], popup=row[popup],\n",
        "           color=row[\"color\"], fill=True,\n",
        "           radius=row[\"size\"]).add_to(map_), axis=1)\n",
        "## add html legend\n",
        "legend_html = \"\"\"<div style=\"position:fixed; bottom:10px; left:10px; border:2px solid black; z-index:9999; font-size:14px;\">&nbsp;<b>\"\"\"+color+\"\"\":</b><br>\"\"\"\n",
        "for i in lst_elements:\n",
        "     legend_html = legend_html+\"\"\"&nbsp;<i class=\"fa fa-circle \n",
        "     fa-1x\" style=\"color:\"\"\"+lst_colors[lst_elements.index(i)]+\"\"\"\">\n",
        "     </i>&nbsp;\"\"\"+str(i)+\"\"\"<br>\"\"\"\n",
        "legend_html = legend_html+\"\"\"</div>\"\"\"\n",
        "map_.get_root().html.add_child(folium.Element(legend_html))\n",
        "\n",
        "## plot the map\n",
        "map_"
      ],
      "execution_count": null,
      "outputs": []
    }
  ]
}